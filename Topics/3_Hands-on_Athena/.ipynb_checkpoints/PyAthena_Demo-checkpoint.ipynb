{
 "cells": [
  {
   "cell_type": "markdown",
   "metadata": {},
   "source": [
    "# Install Packages"
   ]
  },
  {
   "cell_type": "code",
   "execution_count": null,
   "metadata": {},
   "outputs": [],
   "source": []
  },
  {
   "cell_type": "code",
   "execution_count": 2,
   "metadata": {
    "scrolled": true
   },
   "outputs": [
    {
     "name": "stdout",
     "output_type": "stream",
     "text": [
      "Collecting pandas\n",
      "  Downloading pandas-1.2.2-cp38-cp38-manylinux1_x86_64.whl (9.7 MB)\n",
      "\u001b[K     |████████████████████████████████| 9.7 MB 7.4 MB/s eta 0:00:01     |████████▌                       | 2.6 MB 1.1 MB/s eta 0:00:07\n",
      "\u001b[?25hRequirement already satisfied: python-dateutil>=2.7.3 in /opt/conda/lib/python3.8/site-packages (from pandas) (2.8.1)\n",
      "Collecting numpy>=1.16.5\n",
      "  Downloading numpy-1.20.1-cp38-cp38-manylinux2010_x86_64.whl (15.4 MB)\n",
      "\u001b[K     |████████████████████████████████| 15.4 MB 5.6 MB/s eta 0:00:01     |█                               | 430 kB 14.8 MB/s eta 0:00:02     |███████████▉                    | 5.7 MB 14.8 MB/s eta 0:00:01\n",
      "\u001b[?25hRequirement already satisfied: six>=1.5 in /opt/conda/lib/python3.8/site-packages (from python-dateutil>=2.7.3->pandas) (1.15.0)\n",
      "Collecting pytz>=2017.3\n",
      "  Downloading pytz-2021.1-py2.py3-none-any.whl (510 kB)\n",
      "\u001b[K     |████████████████████████████████| 510 kB 5.0 MB/s eta 0:00:01\n",
      "\u001b[?25hInstalling collected packages: pytz, numpy, pandas\n",
      "Successfully installed numpy-1.20.1 pandas-1.2.2 pytz-2021.1\n",
      "Note: you may need to restart the kernel to use updated packages.\n"
     ]
    }
   ],
   "source": [
    "pip install pandas "
   ]
  },
  {
   "cell_type": "code",
   "execution_count": 2,
   "metadata": {},
   "outputs": [
    {
     "name": "stdout",
     "output_type": "stream",
     "text": [
      "Collecting pyathena\n",
      "  Downloading PyAthena-2.1.1-py3-none-any.whl (37 kB)\n",
      "Requirement already satisfied: botocore>=1.5.52 in /usr/local/lib/python3.8/site-packages (from pyathena) (1.17.47)\n",
      "Requirement already satisfied: boto3>=1.4.4 in /usr/local/lib/python3.8/site-packages (from pyathena) (1.14.47)\n",
      "Collecting tenacity>=4.1.0\n",
      "  Downloading tenacity-6.3.1-py2.py3-none-any.whl (36 kB)\n",
      "Requirement already satisfied: docutils<0.16,>=0.10 in /usr/local/lib/python3.8/site-packages (from botocore>=1.5.52->pyathena) (0.15.2)\n",
      "Requirement already satisfied: jmespath<1.0.0,>=0.7.1 in /usr/local/lib/python3.8/site-packages (from botocore>=1.5.52->pyathena) (0.10.0)\n",
      "Requirement already satisfied: urllib3<1.26,>=1.20; python_version != \"3.4\" in /usr/local/lib/python3.8/site-packages (from botocore>=1.5.52->pyathena) (1.25.10)\n",
      "Requirement already satisfied: python-dateutil<3.0.0,>=2.1 in /usr/local/lib/python3.8/site-packages (from botocore>=1.5.52->pyathena) (2.8.1)\n",
      "Requirement already satisfied: s3transfer<0.4.0,>=0.3.0 in /usr/local/lib/python3.8/site-packages (from boto3>=1.4.4->pyathena) (0.3.3)\n",
      "Requirement already satisfied: six>=1.9.0 in /usr/local/lib/python3.8/site-packages (from tenacity>=4.1.0->pyathena) (1.15.0)\n",
      "Installing collected packages: tenacity, pyathena\n",
      "Successfully installed pyathena-2.1.1 tenacity-6.3.1\n",
      "Note: you may need to restart the kernel to use updated packages.\n"
     ]
    }
   ],
   "source": [
    "pip install pyathena"
   ]
  },
  {
   "cell_type": "code",
   "execution_count": 3,
   "metadata": {},
   "outputs": [
    {
     "name": "stdout",
     "output_type": "stream",
     "text": [
      "Collecting matplotlib\n",
      "  Downloading matplotlib-3.3.4-cp38-cp38-manylinux1_x86_64.whl (11.6 MB)\n",
      "\u001b[K     |████████████████████████████████| 11.6 MB 3.7 MB/s eta 0:00:01    |█████▏                          | 1.9 MB 2.1 MB/s eta 0:00:05\n",
      "\u001b[?25hRequirement already satisfied: numpy>=1.15 in /opt/conda/lib/python3.8/site-packages (from matplotlib) (1.20.1)\n",
      "Requirement already satisfied: python-dateutil>=2.1 in /opt/conda/lib/python3.8/site-packages (from matplotlib) (2.8.1)\n",
      "Requirement already satisfied: pyparsing!=2.0.4,!=2.1.2,!=2.1.6,>=2.0.3 in /opt/conda/lib/python3.8/site-packages (from matplotlib) (2.4.7)\n",
      "Collecting cycler>=0.10\n",
      "  Downloading cycler-0.10.0-py2.py3-none-any.whl (6.5 kB)\n",
      "Requirement already satisfied: six in /opt/conda/lib/python3.8/site-packages (from cycler>=0.10->matplotlib) (1.15.0)\n",
      "Collecting kiwisolver>=1.0.1\n",
      "  Downloading kiwisolver-1.3.1-cp38-cp38-manylinux1_x86_64.whl (1.2 MB)\n",
      "\u001b[K     |████████████████████████████████| 1.2 MB 21.4 MB/s eta 0:00:01\n",
      "\u001b[?25hCollecting pillow>=6.2.0\n",
      "  Downloading Pillow-8.1.0-cp38-cp38-manylinux1_x86_64.whl (2.2 MB)\n",
      "\u001b[K     |████████████████████████████████| 2.2 MB 21.1 MB/s eta 0:00:01\n",
      "\u001b[?25hInstalling collected packages: pillow, kiwisolver, cycler, matplotlib\n",
      "Successfully installed cycler-0.10.0 kiwisolver-1.3.1 matplotlib-3.3.4 pillow-8.1.0\n",
      "Note: you may need to restart the kernel to use updated packages.\n"
     ]
    }
   ],
   "source": [
    "pip install matplotlib"
   ]
  },
  {
   "cell_type": "code",
   "execution_count": null,
   "metadata": {},
   "outputs": [],
   "source": []
  },
  {
   "cell_type": "markdown",
   "metadata": {},
   "source": [
    "# Setup"
   ]
  },
  {
   "cell_type": "code",
   "execution_count": null,
   "metadata": {},
   "outputs": [],
   "source": []
  },
  {
   "cell_type": "code",
   "execution_count": 1,
   "metadata": {
    "scrolled": true
   },
   "outputs": [
    {
     "ename": "ModuleNotFoundError",
     "evalue": "No module named 'pyathena'",
     "output_type": "error",
     "traceback": [
      "\u001b[0;31m---------------------------------------------------------------------------\u001b[0m",
      "\u001b[0;31mModuleNotFoundError\u001b[0m                       Traceback (most recent call last)",
      "\u001b[0;32m<ipython-input-1-b1c2681ebbd8>\u001b[0m in \u001b[0;36m<module>\u001b[0;34m\u001b[0m\n\u001b[1;32m      3\u001b[0m \u001b[0;32mimport\u001b[0m \u001b[0mpandas\u001b[0m \u001b[0;32mas\u001b[0m \u001b[0mpd\u001b[0m\u001b[0;34m\u001b[0m\u001b[0;34m\u001b[0m\u001b[0m\n\u001b[1;32m      4\u001b[0m \u001b[0;32mimport\u001b[0m \u001b[0mnumpy\u001b[0m \u001b[0;32mas\u001b[0m \u001b[0mnp\u001b[0m\u001b[0;34m\u001b[0m\u001b[0;34m\u001b[0m\u001b[0m\n\u001b[0;32m----> 5\u001b[0;31m \u001b[0;32mimport\u001b[0m \u001b[0mpyathena\u001b[0m\u001b[0;34m\u001b[0m\u001b[0;34m\u001b[0m\u001b[0m\n\u001b[0m\u001b[1;32m      6\u001b[0m \u001b[0mget_ipython\u001b[0m\u001b[0;34m(\u001b[0m\u001b[0;34m)\u001b[0m\u001b[0;34m.\u001b[0m\u001b[0mrun_line_magic\u001b[0m\u001b[0;34m(\u001b[0m\u001b[0;34m'matplotlib'\u001b[0m\u001b[0;34m,\u001b[0m \u001b[0;34m'inline'\u001b[0m\u001b[0;34m)\u001b[0m\u001b[0;34m\u001b[0m\u001b[0;34m\u001b[0m\u001b[0m\n\u001b[1;32m      7\u001b[0m \u001b[0;32mimport\u001b[0m \u001b[0mmatplotlib\u001b[0m\u001b[0;34m.\u001b[0m\u001b[0mpyplot\u001b[0m \u001b[0;32mas\u001b[0m \u001b[0mplt\u001b[0m\u001b[0;34m\u001b[0m\u001b[0;34m\u001b[0m\u001b[0m\n",
      "\u001b[0;31mModuleNotFoundError\u001b[0m: No module named 'pyathena'"
     ]
    }
   ],
   "source": [
    "import os\n",
    "import sys\n",
    "import pandas as pd\n",
    "import numpy as np\n",
    "import pyathena\n",
    "%matplotlib inline\n",
    "import matplotlib.pyplot as plt\n",
    "from pyathena import connect"
   ]
  },
  {
   "cell_type": "code",
   "execution_count": null,
   "metadata": {},
   "outputs": [],
   "source": []
  },
  {
   "cell_type": "code",
   "execution_count": 2,
   "metadata": {},
   "outputs": [],
   "source": [
    "\n"
   ]
  },
  {
   "cell_type": "markdown",
   "metadata": {},
   "source": [
    "# Athena Connection\n",
    "\n",
    "https://pypi.org/project/pyathena/\n",
    "\n",
    "https://github.com/laughingman7743/PyAthena/\n"
   ]
  },
  {
   "cell_type": "code",
   "execution_count": 20,
   "metadata": {},
   "outputs": [],
   "source": [
    "conn = connect(s3_staging_dir=\"s3://my-own-bucket/workspace/\",\n",
    "               region_name=\"us-east-1\")\n",
    "\n"
   ]
  },
  {
   "cell_type": "code",
   "execution_count": null,
   "metadata": {},
   "outputs": [],
   "source": []
  },
  {
   "cell_type": "markdown",
   "metadata": {},
   "source": [
    "# Query"
   ]
  },
  {
   "cell_type": "code",
   "execution_count": null,
   "metadata": {},
   "outputs": [],
   "source": []
  },
  {
   "cell_type": "code",
   "execution_count": 23,
   "metadata": {
    "scrolled": false
   },
   "outputs": [
    {
     "name": "stdout",
     "output_type": "stream",
     "text": [
      "Number of records: 10\n"
     ]
    },
    {
     "data": {
      "text/html": [
       "<div>\n",
       "<style scoped>\n",
       "    .dataframe tbody tr th:only-of-type {\n",
       "        vertical-align: middle;\n",
       "    }\n",
       "\n",
       "    .dataframe tbody tr th {\n",
       "        vertical-align: top;\n",
       "    }\n",
       "\n",
       "    .dataframe thead th {\n",
       "        text-align: right;\n",
       "    }\n",
       "</style>\n",
       "<table border=\"1\" class=\"dataframe\">\n",
       "  <thead>\n",
       "    <tr style=\"text-align: right;\">\n",
       "      <th></th>\n",
       "      <th>request_timestamp</th>\n",
       "      <th>elb_name</th>\n",
       "      <th>request_ip</th>\n",
       "      <th>request_port</th>\n",
       "      <th>backend_ip</th>\n",
       "      <th>backend_port</th>\n",
       "      <th>request_processing_time</th>\n",
       "      <th>backend_processing_time</th>\n",
       "      <th>client_response_time</th>\n",
       "      <th>elb_response_code</th>\n",
       "      <th>backend_response_code</th>\n",
       "      <th>received_bytes</th>\n",
       "      <th>sent_bytes</th>\n",
       "      <th>request_verb</th>\n",
       "      <th>url</th>\n",
       "      <th>protocol</th>\n",
       "      <th>user_agent</th>\n",
       "      <th>ssl_cipher</th>\n",
       "      <th>ssl_protocol</th>\n",
       "    </tr>\n",
       "  </thead>\n",
       "  <tbody>\n",
       "    <tr>\n",
       "      <th>0</th>\n",
       "      <td>2015-01-02T00:00:01.206255Z</td>\n",
       "      <td>elb_demo_007</td>\n",
       "      <td>251.83.99.192</td>\n",
       "      <td>7990</td>\n",
       "      <td>172.50.153.161</td>\n",
       "      <td>8888</td>\n",
       "      <td>0.000507</td>\n",
       "      <td>0.001537</td>\n",
       "      <td>0.000542</td>\n",
       "      <td>200</td>\n",
       "      <td>200</td>\n",
       "      <td>0</td>\n",
       "      <td>4647</td>\n",
       "      <td>GET</td>\n",
       "      <td>https://www.example.com/images/651</td>\n",
       "      <td>HTTP/1.1</td>\n",
       "      <td>\"Mozilla/5.0 (Macintosh; Intel Mac OS X 10_11_...</td>\n",
       "      <td>DHE-RSA-AES128-SHA</td>\n",
       "      <td>TLSv1.2</td>\n",
       "    </tr>\n",
       "    <tr>\n",
       "      <th>1</th>\n",
       "      <td>2015-01-02T00:00:01.612598Z</td>\n",
       "      <td>elb_demo_007</td>\n",
       "      <td>247.246.76.234</td>\n",
       "      <td>17343</td>\n",
       "      <td>172.47.101.218</td>\n",
       "      <td>8888</td>\n",
       "      <td>0.001647</td>\n",
       "      <td>0.000662</td>\n",
       "      <td>0.001002</td>\n",
       "      <td>200</td>\n",
       "      <td>200</td>\n",
       "      <td>0</td>\n",
       "      <td>1321</td>\n",
       "      <td>GET</td>\n",
       "      <td>http://www.example.com/images/313</td>\n",
       "      <td>HTTP/1.1</td>\n",
       "      <td>\"Mozilla/5.0 (Macintosh; Intel Mac OS X 10_11_...</td>\n",
       "      <td>-</td>\n",
       "      <td>-</td>\n",
       "    </tr>\n",
       "    <tr>\n",
       "      <th>2</th>\n",
       "      <td>2015-01-02T00:00:01.848608Z</td>\n",
       "      <td>elb_demo_001</td>\n",
       "      <td>242.152.231.155</td>\n",
       "      <td>21962</td>\n",
       "      <td>172.51.201.38</td>\n",
       "      <td>80</td>\n",
       "      <td>0.000401</td>\n",
       "      <td>0.000168</td>\n",
       "      <td>0.000171</td>\n",
       "      <td>500</td>\n",
       "      <td>500</td>\n",
       "      <td>0</td>\n",
       "      <td>2120</td>\n",
       "      <td>GET</td>\n",
       "      <td>http://www.example.com/articles/547</td>\n",
       "      <td>HTTP/1.1</td>\n",
       "      <td>\"Mozilla/5.0 (X11; Ubuntu; Linux x86_64; rv:15...</td>\n",
       "      <td>-</td>\n",
       "      <td>-</td>\n",
       "    </tr>\n",
       "    <tr>\n",
       "      <th>3</th>\n",
       "      <td>2015-01-02T00:00:02.587389Z</td>\n",
       "      <td>elb_demo_008</td>\n",
       "      <td>247.147.60.69</td>\n",
       "      <td>10087</td>\n",
       "      <td>172.36.88.162</td>\n",
       "      <td>80</td>\n",
       "      <td>0.000629</td>\n",
       "      <td>0.001762</td>\n",
       "      <td>0.000614</td>\n",
       "      <td>302</td>\n",
       "      <td>302</td>\n",
       "      <td>0</td>\n",
       "      <td>4077</td>\n",
       "      <td>GET</td>\n",
       "      <td>http://www.example.com/images/86</td>\n",
       "      <td>HTTP/1.1</td>\n",
       "      <td>\"Mozilla/5.0 (X11; CrOS x86_64 8172.45.0) Appl...</td>\n",
       "      <td>-</td>\n",
       "      <td>-</td>\n",
       "    </tr>\n",
       "    <tr>\n",
       "      <th>4</th>\n",
       "      <td>2015-01-02T00:00:02.793335Z</td>\n",
       "      <td>elb_demo_008</td>\n",
       "      <td>253.147.171.180</td>\n",
       "      <td>29293</td>\n",
       "      <td>172.50.54.46</td>\n",
       "      <td>443</td>\n",
       "      <td>0.001775</td>\n",
       "      <td>0.000861</td>\n",
       "      <td>0.001337</td>\n",
       "      <td>200</td>\n",
       "      <td>200</td>\n",
       "      <td>0</td>\n",
       "      <td>3645</td>\n",
       "      <td>GET</td>\n",
       "      <td>http://www.example.com/images/429</td>\n",
       "      <td>HTTP/1.1</td>\n",
       "      <td>\"Mozilla/5.0 (X11; Ubuntu; Linux x86_64; rv:15...</td>\n",
       "      <td>-</td>\n",
       "      <td>-</td>\n",
       "    </tr>\n",
       "  </tbody>\n",
       "</table>\n",
       "</div>"
      ],
      "text/plain": [
       "             request_timestamp      elb_name       request_ip  request_port  \\\n",
       "0  2015-01-02T00:00:01.206255Z  elb_demo_007    251.83.99.192          7990   \n",
       "1  2015-01-02T00:00:01.612598Z  elb_demo_007   247.246.76.234         17343   \n",
       "2  2015-01-02T00:00:01.848608Z  elb_demo_001  242.152.231.155         21962   \n",
       "3  2015-01-02T00:00:02.587389Z  elb_demo_008    247.147.60.69         10087   \n",
       "4  2015-01-02T00:00:02.793335Z  elb_demo_008  253.147.171.180         29293   \n",
       "\n",
       "       backend_ip  backend_port  request_processing_time  \\\n",
       "0  172.50.153.161          8888                 0.000507   \n",
       "1  172.47.101.218          8888                 0.001647   \n",
       "2   172.51.201.38            80                 0.000401   \n",
       "3   172.36.88.162            80                 0.000629   \n",
       "4    172.50.54.46           443                 0.001775   \n",
       "\n",
       "   backend_processing_time  client_response_time elb_response_code  \\\n",
       "0                 0.001537              0.000542               200   \n",
       "1                 0.000662              0.001002               200   \n",
       "2                 0.000168              0.000171               500   \n",
       "3                 0.001762              0.000614               302   \n",
       "4                 0.000861              0.001337               200   \n",
       "\n",
       "  backend_response_code  received_bytes  sent_bytes request_verb  \\\n",
       "0                   200               0        4647          GET   \n",
       "1                   200               0        1321          GET   \n",
       "2                   500               0        2120          GET   \n",
       "3                   302               0        4077          GET   \n",
       "4                   200               0        3645          GET   \n",
       "\n",
       "                                   url  protocol  \\\n",
       "0   https://www.example.com/images/651  HTTP/1.1   \n",
       "1    http://www.example.com/images/313  HTTP/1.1   \n",
       "2  http://www.example.com/articles/547  HTTP/1.1   \n",
       "3     http://www.example.com/images/86  HTTP/1.1   \n",
       "4    http://www.example.com/images/429  HTTP/1.1   \n",
       "\n",
       "                                          user_agent          ssl_cipher  \\\n",
       "0  \"Mozilla/5.0 (Macintosh; Intel Mac OS X 10_11_...  DHE-RSA-AES128-SHA   \n",
       "1  \"Mozilla/5.0 (Macintosh; Intel Mac OS X 10_11_...                   -   \n",
       "2  \"Mozilla/5.0 (X11; Ubuntu; Linux x86_64; rv:15...                   -   \n",
       "3  \"Mozilla/5.0 (X11; CrOS x86_64 8172.45.0) Appl...                   -   \n",
       "4  \"Mozilla/5.0 (X11; Ubuntu; Linux x86_64; rv:15...                   -   \n",
       "\n",
       "  ssl_protocol  \n",
       "0      TLSv1.2  \n",
       "1            -  \n",
       "2            -  \n",
       "3            -  \n",
       "4            -  "
      ]
     },
     "execution_count": 23,
     "metadata": {},
     "output_type": "execute_result"
    }
   ],
   "source": [
    "# q = \"\"\"\n",
    "# SELECT * FROM \"probier\".\"taxis\" LIMIT 10\n",
    "# \"\"\"\n",
    "\n",
    "q = \"\"\"\n",
    "SELECT * FROM \"sampledb\".\"elb_logs\" limit 10;\n",
    "\"\"\"\n",
    "df = pd.read_sql(q, conn)\n",
    "print(f\"Number of records: {df.shape[0]:,}\")\n",
    "df.head()"
   ]
  },
  {
   "cell_type": "code",
   "execution_count": null,
   "metadata": {},
   "outputs": [],
   "source": []
  },
  {
   "cell_type": "code",
   "execution_count": null,
   "metadata": {},
   "outputs": [],
   "source": []
  },
  {
   "cell_type": "code",
   "execution_count": null,
   "metadata": {},
   "outputs": [],
   "source": []
  },
  {
   "cell_type": "code",
   "execution_count": null,
   "metadata": {},
   "outputs": [],
   "source": []
  },
  {
   "cell_type": "code",
   "execution_count": null,
   "metadata": {},
   "outputs": [],
   "source": []
  },
  {
   "cell_type": "code",
   "execution_count": null,
   "metadata": {},
   "outputs": [],
   "source": []
  },
  {
   "cell_type": "code",
   "execution_count": null,
   "metadata": {},
   "outputs": [],
   "source": []
  },
  {
   "cell_type": "code",
   "execution_count": null,
   "metadata": {},
   "outputs": [],
   "source": []
  },
  {
   "cell_type": "code",
   "execution_count": null,
   "metadata": {},
   "outputs": [],
   "source": []
  },
  {
   "cell_type": "code",
   "execution_count": null,
   "metadata": {},
   "outputs": [],
   "source": []
  },
  {
   "cell_type": "code",
   "execution_count": null,
   "metadata": {},
   "outputs": [],
   "source": []
  },
  {
   "cell_type": "code",
   "execution_count": null,
   "metadata": {},
   "outputs": [],
   "source": []
  },
  {
   "cell_type": "code",
   "execution_count": null,
   "metadata": {},
   "outputs": [],
   "source": []
  },
  {
   "cell_type": "code",
   "execution_count": null,
   "metadata": {},
   "outputs": [],
   "source": []
  },
  {
   "cell_type": "code",
   "execution_count": null,
   "metadata": {},
   "outputs": [],
   "source": []
  },
  {
   "cell_type": "code",
   "execution_count": null,
   "metadata": {},
   "outputs": [],
   "source": []
  }
 ],
 "metadata": {
  "kernelspec": {
   "display_name": "Python 3",
   "language": "python",
   "name": "python3"
  },
  "language_info": {
   "codemirror_mode": {
    "name": "ipython",
    "version": 3
   },
   "file_extension": ".py",
   "mimetype": "text/x-python",
   "name": "python",
   "nbconvert_exporter": "python",
   "pygments_lexer": "ipython3",
   "version": "3.8.6"
  }
 },
 "nbformat": 4,
 "nbformat_minor": 5
}
