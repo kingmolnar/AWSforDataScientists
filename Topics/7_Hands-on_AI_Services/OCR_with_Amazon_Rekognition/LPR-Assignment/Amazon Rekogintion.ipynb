{
 "cells": [
  {
   "cell_type": "markdown",
   "metadata": {},
   "source": [
    "# Use Amazon Rekognition\n",
    "\n",
    "Amazon Rekognition is an unmanaged AI service that uses pre-trained models for various computer visions tasks.\n",
    "\n",
    "Amazon Rekognition makes it easy to add image and video analysis to your applications using proven, highly scalable, deep learning technology that requires no machine learning expertise to use. With Amazon Rekognition, you can identify objects, people, text, scenes, and activities in images and videos, as well as detect any inappropriate content. Amazon Rekognition also provides highly accurate facial analysis and facial search capabilities that you can use to detect, analyze, and compare faces for a wide variety of user verification, people counting, and public safety use cases.\n",
    "\n",
    "With Amazon Rekognition Custom Labels, you can identify the objects and scenes in images that are specific to your business needs. For example, you can build a model to classify specific machine parts on your assembly line or to detect unhealthy plants. Amazon Rekognition Custom Labels takes care of the heavy lifting of model development for you, so no machine learning experience is required. You simply need to supply images of objects or scenes you want to identify, and the service handles the rest."
   ]
  },
  {
   "cell_type": "markdown",
   "metadata": {},
   "source": [
    "## Setting up your account\n",
    "Once you singned up for AWS you need to create a new user account and configure the AWS command line interface (CLI) with the user's credentials:\n",
    "- Create user: https://docs.aws.amazon.com/IAM/latest/UserGuide/id_users_create.html#id_users_create_console\n",
    "- Configure CLI https://docs.aws.amazon.com/cli/latest/userguide/cli-configure-quickstart.html"
   ]
  },
  {
   "cell_type": "code",
   "execution_count": 2,
   "metadata": {},
   "outputs": [
    {
     "name": "stdout",
     "output_type": "stream",
     "text": [
      "Collecting boto3\n",
      "  Downloading boto3-1.14.47-py2.py3-none-any.whl (129 kB)\n",
      "\u001b[K     |████████████████████████████████| 129 kB 2.7 MB/s eta 0:00:01\n",
      "\u001b[?25hCollecting jmespath<1.0.0,>=0.7.1\n",
      "  Using cached jmespath-0.10.0-py2.py3-none-any.whl (24 kB)\n",
      "Collecting s3transfer<0.4.0,>=0.3.0\n",
      "  Using cached s3transfer-0.3.3-py2.py3-none-any.whl (69 kB)\n",
      "Collecting botocore<1.18.0,>=1.17.47\n",
      "  Downloading botocore-1.17.47-py2.py3-none-any.whl (6.5 MB)\n",
      "\u001b[K     |████████████████████████████████| 6.5 MB 8.3 MB/s eta 0:00:011\n",
      "\u001b[?25hCollecting urllib3<1.26,>=1.20; python_version != \"3.4\"\n",
      "  Downloading urllib3-1.25.10-py2.py3-none-any.whl (127 kB)\n",
      "\u001b[K     |████████████████████████████████| 127 kB 8.8 MB/s eta 0:00:01\n",
      "\u001b[?25hRequirement already satisfied: python-dateutil<3.0.0,>=2.1 in /usr/local/lib/python3.8/site-packages (from botocore<1.18.0,>=1.17.47->boto3) (2.8.1)\n",
      "Collecting docutils<0.16,>=0.10\n",
      "  Using cached docutils-0.15.2-py3-none-any.whl (547 kB)\n",
      "Requirement already satisfied: six>=1.5 in /usr/local/lib/python3.8/site-packages (from python-dateutil<3.0.0,>=2.1->botocore<1.18.0,>=1.17.47->boto3) (1.15.0)\n",
      "Installing collected packages: jmespath, urllib3, docutils, botocore, s3transfer, boto3\n",
      "Successfully installed boto3-1.14.47 botocore-1.17.47 docutils-0.15.2 jmespath-0.10.0 s3transfer-0.3.3 urllib3-1.25.10\n"
     ]
    }
   ],
   "source": [
    "! pip3 install boto3"
   ]
  },
  {
   "cell_type": "code",
   "execution_count": 8,
   "metadata": {},
   "outputs": [],
   "source": [
    "import os\n",
    "jp = os.path.join\n",
    "import numpy as np\n",
    "import pandas as pd\n",
    "import json"
   ]
  },
  {
   "cell_type": "code",
   "execution_count": 3,
   "metadata": {},
   "outputs": [],
   "source": [
    "import boto3"
   ]
  },
  {
   "cell_type": "markdown",
   "metadata": {},
   "source": [
    "### Create a bucket\n",
    "The following code will create a bucket named `kingmolnar-msa8650`. **You need to use a unique name.**\n"
   ]
  },
  {
   "cell_type": "code",
   "execution_count": null,
   "metadata": {},
   "outputs": [],
   "source": [
    "! aws s3 mb s3://kingmolnar-msa8650"
   ]
  },
  {
   "cell_type": "code",
   "execution_count": 14,
   "metadata": {},
   "outputs": [],
   "source": [
    "s3 = boto3.client('s3')\n",
    "s3_bucket = 'kingmolnar-msa8650'\n",
    "s3_prefix = 'lpr-assignment/tmp'"
   ]
  },
  {
   "cell_type": "code",
   "execution_count": 63,
   "metadata": {},
   "outputs": [],
   "source": [
    "# define path to local data directory\n",
    "DATAPATH = \"data_redatcted\""
   ]
  },
  {
   "cell_type": "markdown",
   "metadata": {},
   "source": [
    "## Load list if IR images"
   ]
  },
  {
   "cell_type": "code",
   "execution_count": 12,
   "metadata": {},
   "outputs": [
    {
     "name": "stdout",
     "output_type": "stream",
     "text": [
      "Number of IR images: 1,821\n"
     ]
    }
   ],
   "source": [
    "ir_images = list(map(\n",
    "    lambda f: f.strip(),\n",
    "    os.popen(f\"ls {jp(DATAPATH, 'ir_patch')}/*.jpg\").readlines()\n",
    "))\n",
    "print(f\"Number of IR images: {len(ir_images):,}\")"
   ]
  },
  {
   "cell_type": "code",
   "execution_count": 58,
   "metadata": {},
   "outputs": [
    {
     "name": "stdout",
     "output_type": "stream",
     "text": [
      "0\tdata_redatcted/ir_patch/14134_19700101194928245_BHA6172_1_ir_patch.jpg\n",
      "100\tdata_redatcted/ir_patch/14264_19700101121843079_CAY9621_1_ir_patch.jpg\n",
      "200\tdata_redatcted/ir_patch/14387_19700101135914931_PYW8543_1_ir_patch.jpg\n",
      "300\tdata_redatcted/ir_patch/14511_19700101191607559_BMD3363_1_ir_patch.jpg\n",
      "400\tdata_redatcted/ir_patch/14633_19700101113340173_PEV8894_1_ir_patch.jpg\n",
      "500\tdata_redatcted/ir_patch/14749_19700101130318095_PNT2817_1_ir_patch.jpg\n",
      "600\tdata_redatcted/ir_patch/14985_19700101182653117_PNU6081_1_ir_patch.jpg\n",
      "700\tdata_redatcted/ir_patch/15109_19700101221730832_PVE3685_1_ir_patch.jpg\n",
      "800\tdata_redatcted/ir_patch/15285_19700101115249476_AAA7863_1_ir_patch.jpg\n",
      "900\tdata_redatcted/ir_patch/15421_19700101132658396_PAA3532_1_ir_patch.jpg\n",
      "1,000\tdata_redatcted/ir_patch/15550_19700101184427670_AEX1024_1_ir_patch.jpg\n",
      "1,100\tdata_redatcted/ir_patch/15672_19700101221131205_PJV9626_1_ir_patch.jpg\n",
      "1,200\tdata_redatcted/ir_patch/15884_19700101120507517_L08_1_ir_patch.jpg\n",
      "1,300\tdata_redatcted/ir_patch/16019_19700101135017886_PB2245_1_ir_patch.jpg\n",
      "1,400\tdata_redatcted/ir_patch/16132_19700101184028518_AZZ7750_1_ir_patch.jpg\n",
      "1,500\tdata_redatcted/ir_patch/16254_19700101213912303_PNS9733_1_ir_patch.jpg\n",
      "1,600\tdata_redatcted/ir_patch/16384_19700101112345610_BW221Z_1_ir_patch.jpg\n",
      "1,700\tdata_redatcted/ir_patch/16503_19700101130648931_CBG6968_1_ir_patch.jpg\n",
      "1,800\tdata_redatcted/ir_patch/16623_19700101174648075_WX34NK_1_ir_patch.jpg\n",
      "\n",
      "\n",
      "Done. Number of images processed: 1,816  Total time: 0:28:11.670673\n"
     ]
    }
   ],
   "source": [
    "# Set path to data files, inside DATAPATH should be the ir_patch folder\n",
    "DATAPATH = \"data_redatcted\"\n",
    "\n",
    "# Amazon S3 client\n",
    "s3 = boto3.client('s3')\n",
    "s3_bucket = 'kingmolnar-msa8650'\n",
    "s3_prefix = 'lpr-assignment/tmp'\n",
    "\n",
    "# Amazon Rekognition client\n",
    "reko = boto3.client('rekognition')\n",
    "\n",
    "T_0_loop = datetime.datetime.now()\n",
    "\n",
    "cnt = 0\n",
    "for i, fn in enumerate(ir_images):\n",
    "    if i%100 == 0:\n",
    "        print(f\"{i:,}\\t{fn}\")\n",
    "    \n",
    "    # create filename for results\n",
    "    res_fn = jp(\n",
    "                DATAPATH,\n",
    "                'amazon_rekognition',\n",
    "                os.path.basename(fn).replace('ir_patch', 'amazon_rekognition').replace('.jpg', '.json')\n",
    "    )\n",
    "    \n",
    "    if not os.path.exists(res_fn):\n",
    "        cnt += 1\n",
    "        T_0 = datetime.datetime.now()\n",
    "        \n",
    "        # upload image file to S3\n",
    "        s3.upload_file(fn, s3_bucket, jp(s3_prefix, 'tmp_ir_path.jpg'))\n",
    "\n",
    "        # call Amazon Rekognition\n",
    "        response = reko.detect_text(Image={'S3Object':{'Bucket':s3_bucket, 'Name': jp(s3_prefix, 'tmp_ir_path.jpg')}})\n",
    "        if response['ResponseMetadata']['HTTPStatusCode'] != 200:\n",
    "            print(f\"Rekognition failed:\\n\")\n",
    "            pprint.pprint(response)\n",
    "            break\n",
    "\n",
    "        response['ProcessingTime'] = str(datetime.datetime.now() - T_0)\n",
    "        with open(res_fn, 'w') as io:\n",
    "            json.dump(response, io)\n",
    "\n",
    "print(f\"\\n\\nDone. Number of images processed: {cnt:,}  Total time: {datetime.datetime.now() - T_0_loop}\")"
   ]
  },
  {
   "cell_type": "markdown",
   "metadata": {},
   "source": [
    "It took less than 30 minutes to process over 1,800 images. I tested five images before running the final loop. Those images were not submitted again.\n",
    "```\n",
    "Done. Number of images processed: 1,816  Total time: 0:28:11.670673\n",
    "```"
   ]
  },
  {
   "cell_type": "markdown",
   "metadata": {},
   "source": [
    "# Results\n",
    "We create a JSON file for each processed image. "
   ]
  },
  {
   "cell_type": "code",
   "execution_count": 55,
   "metadata": {},
   "outputs": [
    {
     "name": "stdout",
     "output_type": "stream",
     "text": [
      "total 40\r\n",
      "-rw-r--r--  1 pmolnar  342652723  2719 Aug 23 18:23 15110_19700101222002895_BQG0279_1_amazon_rekognition.json\r\n",
      "-rw-r--r--  1 pmolnar  342652723  1315 Aug 23 18:23 15111_19700101222046389_CCC4807_1_amazon_rekognition.json\r\n",
      "-rw-r--r--  1 pmolnar  342652723  1281 Aug 23 18:23 15112_19700101222047313_CCC48_1_amazon_rekognition.json\r\n",
      "-rw-r--r--  1 pmolnar  342652723  1271 Aug 23 18:23 15113_19700101222047577_CCC480_1_amazon_rekognition.json\r\n",
      "-rw-r--r--  1 pmolnar  342652723  2667 Aug 23 18:23 15114_19700101222135823_BPE7451_1_amazon_rekognition.json\r\n"
     ]
    }
   ],
   "source": [
    "! ls -l data_redatcted/amazon_rekognition/ | head -5"
   ]
  },
  {
   "cell_type": "code",
   "execution_count": 57,
   "metadata": {},
   "outputs": [
    {
     "name": "stdout",
     "output_type": "stream",
     "text": [
      "{'ProcessingTime': '0:00:00.935562',\n",
      " 'ResponseMetadata': {'HTTPHeaders': {'connection': 'keep-alive',\n",
      "                                      'content-length': '2112',\n",
      "                                      'content-type': 'application/x-amz-json-1.1',\n",
      "                                      'date': 'Sun, 23 Aug 2020 22:23:16 GMT',\n",
      "                                      'x-amzn-requestid': '7a5430e7-ee55-465a-92b7-4ff02cf0dba0'},\n",
      "                      'HTTPStatusCode': 200,\n",
      "                      'RequestId': '7a5430e7-ee55-465a-92b7-4ff02cf0dba0',\n",
      "                      'RetryAttempts': 0},\n",
      " 'TextDetections': [{'Confidence': 99.2896957397461,\n",
      "                     'DetectedText': 'BPE 7451',\n",
      "                     'Geometry': {'BoundingBox': {'Height': 0.3292461037635803,\n",
      "                                                  'Left': 0.311930775642395,\n",
      "                                                  'Top': 0.32807275652885437,\n",
      "                                                  'Width': 0.36066076159477234},\n",
      "                                  'Polygon': [{'X': 0.311930775642395,\n",
      "                                               'Y': 0.32807275652885437},\n",
      "                                              {'X': 0.672591507434845,\n",
      "                                               'Y': 0.2957538962364197},\n",
      "                                              {'X': 0.675000011920929,\n",
      "                                               'Y': 0.625},\n",
      "                                              {'X': 0.3143392503261566,\n",
      "                                               'Y': 0.6573188900947571}]},\n",
      "                     'Id': 0,\n",
      "                     'Type': 'LINE'},\n",
      "                    {'Confidence': 67.40142059326172,\n",
      "                     'DetectedText': '71AS',\n",
      "                     'Geometry': {'BoundingBox': {'Height': 0.10000000149011612,\n",
      "                                                  'Left': 0.4285714328289032,\n",
      "                                                  'Top': 0.675000011920929,\n",
      "                                                  'Width': 0.1428571492433548},\n",
      "                                  'Polygon': [{'X': 0.4285714328289032,\n",
      "                                               'Y': 0.675000011920929},\n",
      "                                              {'X': 0.5714285969734192,\n",
      "                                               'Y': 0.675000011920929},\n",
      "                                              {'X': 0.5714285969734192,\n",
      "                                               'Y': 0.7749999761581421},\n",
      "                                              {'X': 0.4285714328289032,\n",
      "                                               'Y': 0.7749999761581421}]},\n",
      "                     'Id': 1,\n",
      "                     'Type': 'LINE'},\n",
      "                    {'Confidence': 99.94662475585938,\n",
      "                     'DetectedText': 'BPE',\n",
      "                     'Geometry': {'BoundingBox': {'Height': 0.31252041459083557,\n",
      "                                                  'Left': 0.3142857253551483,\n",
      "                                                  'Top': 0.3375000059604645,\n",
      "                                                  'Width': 0.13273276388645172},\n",
      "                                  'Polygon': [{'X': 0.3142857253551483,\n",
      "                                               'Y': 0.3375000059604645},\n",
      "                                              {'X': 0.4464285671710968,\n",
      "                                               'Y': 0.32499998807907104},\n",
      "                                              {'X': 0.44999998807907104,\n",
      "                                               'Y': 0.637499988079071},\n",
      "                                              {'X': 0.3142857253551483,\n",
      "                                               'Y': 0.6499999761581421}]},\n",
      "                     'Id': 2,\n",
      "                     'ParentId': 0,\n",
      "                     'Type': 'WORD'},\n",
      "                    {'Confidence': 98.63276672363281,\n",
      "                     'DetectedText': '7451',\n",
      "                     'Geometry': {'BoundingBox': {'Height': 0.32501962780952454,\n",
      "                                                  'Left': 0.48571428656578064,\n",
      "                                                  'Top': 0.3125,\n",
      "                                                  'Width': 0.1861344873905182},\n",
      "                                  'Polygon': [{'X': 0.48571428656578064,\n",
      "                                               'Y': 0.3125},\n",
      "                                              {'X': 0.6714285612106323,\n",
      "                                               'Y': 0.30000001192092896},\n",
      "                                              {'X': 0.675000011920929,\n",
      "                                               'Y': 0.625},\n",
      "                                              {'X': 0.48571428656578064,\n",
      "                                               'Y': 0.637499988079071}]},\n",
      "                     'Id': 3,\n",
      "                     'ParentId': 0,\n",
      "                     'Type': 'WORD'},\n",
      "                    {'Confidence': 67.40142059326172,\n",
      "                     'DetectedText': '71AS',\n",
      "                     'Geometry': {'BoundingBox': {'Height': 0.10000000149011612,\n",
      "                                                  'Left': 0.4285714328289032,\n",
      "                                                  'Top': 0.675000011920929,\n",
      "                                                  'Width': 0.1428571492433548},\n",
      "                                  'Polygon': [{'X': 0.4285714328289032,\n",
      "                                               'Y': 0.675000011920929},\n",
      "                                              {'X': 0.5714285969734192,\n",
      "                                               'Y': 0.675000011920929},\n",
      "                                              {'X': 0.5714285969734192,\n",
      "                                               'Y': 0.7749999761581421},\n",
      "                                              {'X': 0.4285714328289032,\n",
      "                                               'Y': 0.7749999761581421}]},\n",
      "                     'Id': 4,\n",
      "                     'ParentId': 1,\n",
      "                     'Type': 'WORD'}],\n",
      " 'TextModelVersion': '3.0'}\n"
     ]
    }
   ],
   "source": [
    "pprint.pprint(json.load(open(jp(DATAPATH, 'amazon_rekognition', \n",
    "                                '15114_19700101222135823_BPE7451_1_amazon_rekognition.json'))))"
   ]
  },
  {
   "cell_type": "markdown",
   "metadata": {},
   "source": [
    "# Performance Evaluation"
   ]
  },
  {
   "cell_type": "markdown",
   "metadata": {},
   "source": [
    "## Build Meta Database\n",
    "Create a data table with meta information"
   ]
  },
  {
   "cell_type": "code",
   "execution_count": 79,
   "metadata": {},
   "outputs": [],
   "source": [
    "import xml.etree.ElementTree as ET"
   ]
  },
  {
   "cell_type": "markdown",
   "metadata": {},
   "source": [
    "### File List"
   ]
  },
  {
   "cell_type": "code",
   "execution_count": 87,
   "metadata": {},
   "outputs": [
    {
     "data": {
      "text/plain": [
       "(['14134_19700101194928245_BHA6172_1.xml',\n",
       "  '14135_19700101195631172_BMU2999_1.xml',\n",
       "  '14136_19700101195849178_PFF9889_1.xml'],\n",
       " ['14134_19700101194928245_BHA6172_1_context.jpg',\n",
       "  '14135_19700101195631172_BMU2999_1_context.jpg',\n",
       "  '14136_19700101195849178_PFF9889_1_context.jpg'],\n",
       " ['14134_19700101194928245_BHA6172_1_ir_patch.jpg',\n",
       "  '14135_19700101195631172_BMU2999_1_ir_patch.jpg',\n",
       "  '14136_19700101195849178_PFF9889_1_ir_patch.jpg'],\n",
       " ['14134_19700101194928245_BHA6172_1_amazon_rekognition.json',\n",
       "  '14135_19700101195631172_BMU2999_1_amazon_rekognition.json',\n",
       "  '14136_19700101195849178_PFF9889_1_amazon_rekognition.json'])"
      ]
     },
     "execution_count": 87,
     "metadata": {},
     "output_type": "execute_result"
    }
   ],
   "source": [
    "xml_list = [x for x in filter(lambda s: s.endswith('.xml'), map(lambda s: s.strip(), os.popen('ls %s/xml' % DATAPATH).readlines()))]\n",
    "context_list = [x for x in filter(lambda s: s.endswith('.jpg'), map(lambda s: s.strip(), os.popen('ls %s/context' % DATAPATH).readlines()))]\n",
    "ir_list = [x for x in filter(lambda s: s.endswith('.jpg'), map(lambda s: s.strip(), os.popen('ls %s/ir_patch' % DATAPATH).readlines()))]\n",
    "rek_list = [x for x in filter(lambda s: s.endswith('.json'), map(lambda s: s.strip(), os.popen('ls %s/amazon_rekognition' % DATAPATH).readlines()))]\n",
    "xml_list[:3], context_list[:3], ir_list[:3], rek_list[:3]"
   ]
  },
  {
   "cell_type": "markdown",
   "metadata": {},
   "source": [
    "### Original Meta Data"
   ]
  },
  {
   "cell_type": "code",
   "execution_count": 90,
   "metadata": {},
   "outputs": [
    {
     "name": "stdout",
     "output_type": "stream",
     "text": [
      "fix IRImagePatch\n",
      "fix ContextImage\n",
      "(1839, 31)\n"
     ]
    },
    {
     "data": {
      "text/html": [
       "<div>\n",
       "<style scoped>\n",
       "    .dataframe tbody tr th:only-of-type {\n",
       "        vertical-align: middle;\n",
       "    }\n",
       "\n",
       "    .dataframe tbody tr th {\n",
       "        vertical-align: top;\n",
       "    }\n",
       "\n",
       "    .dataframe thead th {\n",
       "        text-align: right;\n",
       "    }\n",
       "</style>\n",
       "<table border=\"1\" class=\"dataframe\">\n",
       "  <thead>\n",
       "    <tr style=\"text-align: right;\">\n",
       "      <th></th>\n",
       "      <th>plate_read</th>\n",
       "      <th>InstanceID</th>\n",
       "      <th>CameraID</th>\n",
       "      <th>TimeStamp</th>\n",
       "      <th>TimeStampError</th>\n",
       "      <th>LaneID</th>\n",
       "      <th>VehicleDirection</th>\n",
       "      <th>PlateNotRead</th>\n",
       "      <th>VRN</th>\n",
       "      <th>VRNConfidence</th>\n",
       "      <th>...</th>\n",
       "      <th>PlateWidth</th>\n",
       "      <th>PlateHeight</th>\n",
       "      <th>ANPRImageWidth</th>\n",
       "      <th>ANPRImageHeight</th>\n",
       "      <th>IRImage</th>\n",
       "      <th>IRImagePatch</th>\n",
       "      <th>ContextImage</th>\n",
       "      <th>ContextImagePatch</th>\n",
       "      <th>ContextVideo</th>\n",
       "      <th>xml_filename</th>\n",
       "    </tr>\n",
       "  </thead>\n",
       "  <tbody>\n",
       "    <tr>\n",
       "      <th>14134</th>\n",
       "      <td>\\n\\t</td>\n",
       "      <td>14134</td>\n",
       "      <td>2</td>\n",
       "      <td>1970-01-01T15:49:28.245-0400</td>\n",
       "      <td>0</td>\n",
       "      <td>1</td>\n",
       "      <td>A</td>\n",
       "      <td>0</td>\n",
       "      <td>BHA6172</td>\n",
       "      <td>85</td>\n",
       "      <td>...</td>\n",
       "      <td>280</td>\n",
       "      <td>80</td>\n",
       "      <td>1280</td>\n",
       "      <td>1024</td>\n",
       "      <td>None</td>\n",
       "      <td>ir_patch/14134_19700101194928245_BHA6172_1_ir_...</td>\n",
       "      <td>context/14134_19700101194928245_BHA6172_1_cont...</td>\n",
       "      <td>None</td>\n",
       "      <td>None</td>\n",
       "      <td>14134_19700101194928245_BHA6172_1.xml</td>\n",
       "    </tr>\n",
       "    <tr>\n",
       "      <th>14135</th>\n",
       "      <td>\\n\\t</td>\n",
       "      <td>14135</td>\n",
       "      <td>2</td>\n",
       "      <td>1970-01-01T15:56:31.172-0400</td>\n",
       "      <td>0</td>\n",
       "      <td>1</td>\n",
       "      <td>A</td>\n",
       "      <td>0</td>\n",
       "      <td>BMU2999</td>\n",
       "      <td>71</td>\n",
       "      <td>...</td>\n",
       "      <td>280</td>\n",
       "      <td>80</td>\n",
       "      <td>1280</td>\n",
       "      <td>1024</td>\n",
       "      <td>None</td>\n",
       "      <td>ir_patch/14135_19700101195631172_BMU2999_1_ir_...</td>\n",
       "      <td>context/14135_19700101195631172_BMU2999_1_cont...</td>\n",
       "      <td>None</td>\n",
       "      <td>None</td>\n",
       "      <td>14135_19700101195631172_BMU2999_1.xml</td>\n",
       "    </tr>\n",
       "    <tr>\n",
       "      <th>14136</th>\n",
       "      <td>\\n\\t</td>\n",
       "      <td>14136</td>\n",
       "      <td>2</td>\n",
       "      <td>1970-01-01T15:58:49.178-0400</td>\n",
       "      <td>0</td>\n",
       "      <td>1</td>\n",
       "      <td>A</td>\n",
       "      <td>0</td>\n",
       "      <td>PFF9889</td>\n",
       "      <td>90</td>\n",
       "      <td>...</td>\n",
       "      <td>280</td>\n",
       "      <td>80</td>\n",
       "      <td>1280</td>\n",
       "      <td>1024</td>\n",
       "      <td>None</td>\n",
       "      <td>ir_patch/14136_19700101195849178_PFF9889_1_ir_...</td>\n",
       "      <td>context/14136_19700101195849178_PFF9889_1_cont...</td>\n",
       "      <td>None</td>\n",
       "      <td>None</td>\n",
       "      <td>14136_19700101195849178_PFF9889_1.xml</td>\n",
       "    </tr>\n",
       "    <tr>\n",
       "      <th>14137</th>\n",
       "      <td>\\n\\t</td>\n",
       "      <td>14137</td>\n",
       "      <td>2</td>\n",
       "      <td>1970-01-01T16:02:04.933-0400</td>\n",
       "      <td>0</td>\n",
       "      <td>1</td>\n",
       "      <td>A</td>\n",
       "      <td>0</td>\n",
       "      <td>PTA2105</td>\n",
       "      <td>87</td>\n",
       "      <td>...</td>\n",
       "      <td>280</td>\n",
       "      <td>80</td>\n",
       "      <td>1280</td>\n",
       "      <td>1024</td>\n",
       "      <td>None</td>\n",
       "      <td>ir_patch/14137_19700101200204933_PTA2105_1_ir_...</td>\n",
       "      <td>context/14137_19700101200204933_PTA2105_1_cont...</td>\n",
       "      <td>None</td>\n",
       "      <td>None</td>\n",
       "      <td>14137_19700101200204933_PTA2105_1.xml</td>\n",
       "    </tr>\n",
       "    <tr>\n",
       "      <th>14140</th>\n",
       "      <td>\\n\\t</td>\n",
       "      <td>14140</td>\n",
       "      <td>2</td>\n",
       "      <td>1970-01-01T16:04:42.871-0400</td>\n",
       "      <td>0</td>\n",
       "      <td>1</td>\n",
       "      <td>A</td>\n",
       "      <td>0</td>\n",
       "      <td>CCD7351</td>\n",
       "      <td>92</td>\n",
       "      <td>...</td>\n",
       "      <td>280</td>\n",
       "      <td>80</td>\n",
       "      <td>1280</td>\n",
       "      <td>1024</td>\n",
       "      <td>None</td>\n",
       "      <td>ir_patch/14140_19700101200442871_CCD7351_1_ir_...</td>\n",
       "      <td>context/14140_19700101200442871_CCD7351_1_cont...</td>\n",
       "      <td>None</td>\n",
       "      <td>None</td>\n",
       "      <td>14140_19700101200442871_CCD7351_1.xml</td>\n",
       "    </tr>\n",
       "  </tbody>\n",
       "</table>\n",
       "<p>5 rows × 31 columns</p>\n",
       "</div>"
      ],
      "text/plain": [
       "      plate_read InstanceID CameraID                     TimeStamp  \\\n",
       "14134       \\n\\t      14134        2  1970-01-01T15:49:28.245-0400   \n",
       "14135       \\n\\t      14135        2  1970-01-01T15:56:31.172-0400   \n",
       "14136       \\n\\t      14136        2  1970-01-01T15:58:49.178-0400   \n",
       "14137       \\n\\t      14137        2  1970-01-01T16:02:04.933-0400   \n",
       "14140       \\n\\t      14140        2  1970-01-01T16:04:42.871-0400   \n",
       "\n",
       "      TimeStampError LaneID VehicleDirection PlateNotRead      VRN  \\\n",
       "14134              0      1                A            0  BHA6172   \n",
       "14135              0      1                A            0  BMU2999   \n",
       "14136              0      1                A            0  PFF9889   \n",
       "14137              0      1                A            0  PTA2105   \n",
       "14140              0      1                A            0  CCD7351   \n",
       "\n",
       "      VRNConfidence  ... PlateWidth PlateHeight ANPRImageWidth  \\\n",
       "14134            85  ...        280          80           1280   \n",
       "14135            71  ...        280          80           1280   \n",
       "14136            90  ...        280          80           1280   \n",
       "14137            87  ...        280          80           1280   \n",
       "14140            92  ...        280          80           1280   \n",
       "\n",
       "      ANPRImageHeight IRImage  \\\n",
       "14134            1024    None   \n",
       "14135            1024    None   \n",
       "14136            1024    None   \n",
       "14137            1024    None   \n",
       "14140            1024    None   \n",
       "\n",
       "                                            IRImagePatch  \\\n",
       "14134  ir_patch/14134_19700101194928245_BHA6172_1_ir_...   \n",
       "14135  ir_patch/14135_19700101195631172_BMU2999_1_ir_...   \n",
       "14136  ir_patch/14136_19700101195849178_PFF9889_1_ir_...   \n",
       "14137  ir_patch/14137_19700101200204933_PTA2105_1_ir_...   \n",
       "14140  ir_patch/14140_19700101200442871_CCD7351_1_ir_...   \n",
       "\n",
       "                                            ContextImage ContextImagePatch  \\\n",
       "14134  context/14134_19700101194928245_BHA6172_1_cont...              None   \n",
       "14135  context/14135_19700101195631172_BMU2999_1_cont...              None   \n",
       "14136  context/14136_19700101195849178_PFF9889_1_cont...              None   \n",
       "14137  context/14137_19700101200204933_PTA2105_1_cont...              None   \n",
       "14140  context/14140_19700101200442871_CCD7351_1_cont...              None   \n",
       "\n",
       "      ContextVideo                           xml_filename  \n",
       "14134         None  14134_19700101194928245_BHA6172_1.xml  \n",
       "14135         None  14135_19700101195631172_BMU2999_1.xml  \n",
       "14136         None  14136_19700101195849178_PFF9889_1.xml  \n",
       "14137         None  14137_19700101200204933_PTA2105_1.xml  \n",
       "14140         None  14140_19700101200442871_CCD7351_1.xml  \n",
       "\n",
       "[5 rows x 31 columns]"
      ]
     },
     "execution_count": 90,
     "metadata": {},
     "output_type": "execute_result"
    }
   ],
   "source": [
    "meta_df = pd.DataFrame()\n",
    "for xml in xml_list:\n",
    "    tree = ET.parse(jp(DATAPATH, 'xml', xml))\n",
    "    el_dict = {}\n",
    "    for x in tree.iter():\n",
    "        el_dict[x.tag] = [x.text]\n",
    "    el_dict\n",
    "    r_df = pd.DataFrame(el_dict)\n",
    "    r_df['xml_filename'] = xml\n",
    "    r_df.index = [xml.split('_')[0]]\n",
    "    meta_df = pd.concat([meta_df, r_df])\n",
    "for c in ['IRImagePatch', 'ContextImage']:\n",
    "    print(f'fix {c}')\n",
    "    meta_df[c] = meta_df[c].map(lambda p: p.replace(r'data_redatcted/', ''))\n",
    "print(meta_df.shape)\n",
    "meta_df.head(5)"
   ]
  },
  {
   "cell_type": "markdown",
   "metadata": {},
   "source": [
    "### Amazon Rekognition Results\n",
    "Take the LINE record with highest confidence. Remove space in VRN."
   ]
  },
  {
   "cell_type": "code",
   "execution_count": 118,
   "metadata": {},
   "outputs": [
    {
     "name": "stdout",
     "output_type": "stream",
     "text": [
      "(1821, 8)\n"
     ]
    },
    {
     "data": {
      "text/html": [
       "<div>\n",
       "<style scoped>\n",
       "    .dataframe tbody tr th:only-of-type {\n",
       "        vertical-align: middle;\n",
       "    }\n",
       "\n",
       "    .dataframe tbody tr th {\n",
       "        vertical-align: top;\n",
       "    }\n",
       "\n",
       "    .dataframe thead th {\n",
       "        text-align: right;\n",
       "    }\n",
       "</style>\n",
       "<table border=\"1\" class=\"dataframe\">\n",
       "  <thead>\n",
       "    <tr style=\"text-align: right;\">\n",
       "      <th></th>\n",
       "      <th>DetectedText</th>\n",
       "      <th>Type</th>\n",
       "      <th>Id</th>\n",
       "      <th>Confidence</th>\n",
       "      <th>Geometry</th>\n",
       "      <th>ParentId</th>\n",
       "      <th>InstanceID</th>\n",
       "      <th>Rekognition_VRN</th>\n",
       "    </tr>\n",
       "  </thead>\n",
       "  <tbody>\n",
       "    <tr>\n",
       "      <th>14134</th>\n",
       "      <td>BHA 6172</td>\n",
       "      <td>LINE</td>\n",
       "      <td>0</td>\n",
       "      <td>99.231064</td>\n",
       "      <td>{'BoundingBox': {'Width': 0.3537510931491852, ...</td>\n",
       "      <td>NaN</td>\n",
       "      <td>14134</td>\n",
       "      <td>BHA6172</td>\n",
       "    </tr>\n",
       "    <tr>\n",
       "      <th>14135</th>\n",
       "      <td>BMU 2999</td>\n",
       "      <td>LINE</td>\n",
       "      <td>0</td>\n",
       "      <td>99.947304</td>\n",
       "      <td>{'BoundingBox': {'Width': 0.29746976494789124,...</td>\n",
       "      <td>NaN</td>\n",
       "      <td>14135</td>\n",
       "      <td>BMU2999</td>\n",
       "    </tr>\n",
       "    <tr>\n",
       "      <th>14136</th>\n",
       "      <td>PFF9880</td>\n",
       "      <td>LINE</td>\n",
       "      <td>1</td>\n",
       "      <td>99.517075</td>\n",
       "      <td>{'BoundingBox': {'Width': 0.29602688550949097,...</td>\n",
       "      <td>NaN</td>\n",
       "      <td>14136</td>\n",
       "      <td>PFF9880</td>\n",
       "    </tr>\n",
       "    <tr>\n",
       "      <th>14137</th>\n",
       "      <td>PTA2105</td>\n",
       "      <td>LINE</td>\n",
       "      <td>0</td>\n",
       "      <td>96.108620</td>\n",
       "      <td>{'BoundingBox': {'Width': 0.33217155933380127,...</td>\n",
       "      <td>NaN</td>\n",
       "      <td>14137</td>\n",
       "      <td>PTA2105</td>\n",
       "    </tr>\n",
       "    <tr>\n",
       "      <th>14140</th>\n",
       "      <td>CCD7351</td>\n",
       "      <td>LINE</td>\n",
       "      <td>0</td>\n",
       "      <td>99.057617</td>\n",
       "      <td>{'BoundingBox': {'Width': 0.3717344403266907, ...</td>\n",
       "      <td>NaN</td>\n",
       "      <td>14140</td>\n",
       "      <td>CCD7351</td>\n",
       "    </tr>\n",
       "  </tbody>\n",
       "</table>\n",
       "</div>"
      ],
      "text/plain": [
       "      DetectedText  Type  Id  Confidence  \\\n",
       "14134     BHA 6172  LINE   0   99.231064   \n",
       "14135     BMU 2999  LINE   0   99.947304   \n",
       "14136      PFF9880  LINE   1   99.517075   \n",
       "14137      PTA2105  LINE   0   96.108620   \n",
       "14140      CCD7351  LINE   0   99.057617   \n",
       "\n",
       "                                                Geometry  ParentId InstanceID  \\\n",
       "14134  {'BoundingBox': {'Width': 0.3537510931491852, ...       NaN      14134   \n",
       "14135  {'BoundingBox': {'Width': 0.29746976494789124,...       NaN      14135   \n",
       "14136  {'BoundingBox': {'Width': 0.29602688550949097,...       NaN      14136   \n",
       "14137  {'BoundingBox': {'Width': 0.33217155933380127,...       NaN      14137   \n",
       "14140  {'BoundingBox': {'Width': 0.3717344403266907, ...       NaN      14140   \n",
       "\n",
       "      Rekognition_VRN  \n",
       "14134         BHA6172  \n",
       "14135         BMU2999  \n",
       "14136         PFF9880  \n",
       "14137         PTA2105  \n",
       "14140         CCD7351  "
      ]
     },
     "metadata": {},
     "output_type": "display_data"
    }
   ],
   "source": [
    "rekognition_df = pd.DataFrame()\n",
    "for ak in rek_list:\n",
    "    res = json.load(open(jp(DATAPATH, 'amazon_rekognition', ak)))\n",
    "    tmpdf = pd.DataFrame(res['TextDetections'])\n",
    "    tmpdf2 = tmpdf[tmpdf['Type']=='LINE'].sort_values('Confidence', ascending=False).head(1).copy()\n",
    "    tmpdf2['InstanceID'] = [ak.split('_')[0]]\n",
    "    tmpdf2.index = [ak.split('_')[0]]\n",
    "    rekognition_df = pd.concat([rekognition_df, tmpdf2])\n",
    "rekognition_df['Rekognition_VRN'] = rekognition_df['DetectedText'].map(lambda s: s.replace(' ', ''))\n",
    "print(rekognition_df.shape)\n",
    "display(rekognition_df.head(5))"
   ]
  },
  {
   "cell_type": "code",
   "execution_count": 122,
   "metadata": {},
   "outputs": [
    {
     "name": "stdout",
     "output_type": "stream",
     "text": [
      "(1839, 38)\n"
     ]
    }
   ],
   "source": [
    "df = pd.merge(meta_df, rekognition_df, on='InstanceID', suffixes=['', '_2'])\n",
    "print(df.shape)"
   ]
  },
  {
   "cell_type": "code",
   "execution_count": 128,
   "metadata": {},
   "outputs": [
    {
     "data": {
      "text/plain": [
       "Index(['plate_read', 'InstanceID', 'CameraID', 'TimeStamp', 'TimeStampError',\n",
       "       'LaneID', 'VehicleDirection', 'PlateNotRead', 'VRN', 'VRNConfidence',\n",
       "       'Tag', 'TagConfidence', 'Classification', 'Country', 'Velocity',\n",
       "       'VelocityError', 'XYType', 'XCoord', 'YCoord', 'PlateXCoord',\n",
       "       'PlateYCoord', 'PlateWidth', 'PlateHeight', 'ANPRImageWidth',\n",
       "       'ANPRImageHeight', 'IRImage', 'IRImagePatch', 'ContextImage',\n",
       "       'ContextImagePatch', 'ContextVideo', 'xml_filename', 'DetectedText',\n",
       "       'Type', 'Id', 'Confidence', 'Geometry', 'ParentId', 'Rekognition_VRN'],\n",
       "      dtype='object')"
      ]
     },
     "execution_count": 128,
     "metadata": {},
     "output_type": "execute_result"
    }
   ],
   "source": [
    "df.columns"
   ]
  },
  {
   "cell_type": "code",
   "execution_count": 129,
   "metadata": {},
   "outputs": [
    {
     "data": {
      "text/html": [
       "<div>\n",
       "<style scoped>\n",
       "    .dataframe tbody tr th:only-of-type {\n",
       "        vertical-align: middle;\n",
       "    }\n",
       "\n",
       "    .dataframe tbody tr th {\n",
       "        vertical-align: top;\n",
       "    }\n",
       "\n",
       "    .dataframe thead th {\n",
       "        text-align: right;\n",
       "    }\n",
       "</style>\n",
       "<table border=\"1\" class=\"dataframe\">\n",
       "  <thead>\n",
       "    <tr style=\"text-align: right;\">\n",
       "      <th></th>\n",
       "      <th>VRN</th>\n",
       "      <th>Rekognition_VRN</th>\n",
       "      <th>xml_filename</th>\n",
       "    </tr>\n",
       "  </thead>\n",
       "  <tbody>\n",
       "    <tr>\n",
       "      <th>0</th>\n",
       "      <td>BHA6172</td>\n",
       "      <td>BHA6172</td>\n",
       "      <td>14134_19700101194928245_BHA6172_1.xml</td>\n",
       "    </tr>\n",
       "    <tr>\n",
       "      <th>1</th>\n",
       "      <td>BMU2999</td>\n",
       "      <td>BMU2999</td>\n",
       "      <td>14135_19700101195631172_BMU2999_1.xml</td>\n",
       "    </tr>\n",
       "    <tr>\n",
       "      <th>2</th>\n",
       "      <td>PFF9889</td>\n",
       "      <td>PFF9880</td>\n",
       "      <td>14136_19700101195849178_PFF9889_1.xml</td>\n",
       "    </tr>\n",
       "    <tr>\n",
       "      <th>3</th>\n",
       "      <td>PTA2105</td>\n",
       "      <td>PTA2105</td>\n",
       "      <td>14137_19700101200204933_PTA2105_1.xml</td>\n",
       "    </tr>\n",
       "    <tr>\n",
       "      <th>4</th>\n",
       "      <td>CCD7351</td>\n",
       "      <td>CCD7351</td>\n",
       "      <td>14140_19700101200442871_CCD7351_1.xml</td>\n",
       "    </tr>\n",
       "  </tbody>\n",
       "</table>\n",
       "</div>"
      ],
      "text/plain": [
       "       VRN Rekognition_VRN                           xml_filename\n",
       "0  BHA6172         BHA6172  14134_19700101194928245_BHA6172_1.xml\n",
       "1  BMU2999         BMU2999  14135_19700101195631172_BMU2999_1.xml\n",
       "2  PFF9889         PFF9880  14136_19700101195849178_PFF9889_1.xml\n",
       "3  PTA2105         PTA2105  14137_19700101200204933_PTA2105_1.xml\n",
       "4  CCD7351         CCD7351  14140_19700101200442871_CCD7351_1.xml"
      ]
     },
     "execution_count": 129,
     "metadata": {},
     "output_type": "execute_result"
    }
   ],
   "source": [
    "df[['VRN', 'Rekognition_VRN', 'xml_filename']].head()"
   ]
  },
  {
   "cell_type": "code",
   "execution_count": 134,
   "metadata": {},
   "outputs": [
    {
     "name": "stdout",
     "output_type": "stream",
     "text": [
      "Number of records that match: 1,119\n",
      "Number of records that do not match: 720\n"
     ]
    }
   ],
   "source": [
    "print(f\"Number of records that match: {np.sum(df.VRN==df.Rekognition_VRN):,}\")\n",
    "print(f\"Number of records that do not match: {np.sum(df.VRN!=df.Rekognition_VRN):,}\")"
   ]
  },
  {
   "cell_type": "code",
   "execution_count": 130,
   "metadata": {},
   "outputs": [
    {
     "data": {
      "text/html": [
       "<div>\n",
       "<style scoped>\n",
       "    .dataframe tbody tr th:only-of-type {\n",
       "        vertical-align: middle;\n",
       "    }\n",
       "\n",
       "    .dataframe tbody tr th {\n",
       "        vertical-align: top;\n",
       "    }\n",
       "\n",
       "    .dataframe thead th {\n",
       "        text-align: right;\n",
       "    }\n",
       "</style>\n",
       "<table border=\"1\" class=\"dataframe\">\n",
       "  <thead>\n",
       "    <tr style=\"text-align: right;\">\n",
       "      <th></th>\n",
       "      <th>VRN</th>\n",
       "      <th>Rekognition_VRN</th>\n",
       "      <th>xml_filename</th>\n",
       "    </tr>\n",
       "  </thead>\n",
       "  <tbody>\n",
       "    <tr>\n",
       "      <th>2</th>\n",
       "      <td>PFF9889</td>\n",
       "      <td>PFF9880</td>\n",
       "      <td>14136_19700101195849178_PFF9889_1.xml</td>\n",
       "    </tr>\n",
       "    <tr>\n",
       "      <th>5</th>\n",
       "      <td>CDI4388</td>\n",
       "      <td>LII4388</td>\n",
       "      <td>14141_19700101200554349_CDI4388_1.xml</td>\n",
       "    </tr>\n",
       "    <tr>\n",
       "      <th>7</th>\n",
       "      <td>728JFW</td>\n",
       "      <td>728JFM</td>\n",
       "      <td>14143_19700101201336085_728JFW_1.xml</td>\n",
       "    </tr>\n",
       "    <tr>\n",
       "      <th>9</th>\n",
       "      <td>AGV6998</td>\n",
       "      <td>AGY6998</td>\n",
       "      <td>14145_19700101203157953_AGV6998_1.xml</td>\n",
       "    </tr>\n",
       "    <tr>\n",
       "      <th>11</th>\n",
       "      <td>1WF412I</td>\n",
       "      <td>WF4121</td>\n",
       "      <td>14147_19700101203445593_1WF412I_1.xml</td>\n",
       "    </tr>\n",
       "  </tbody>\n",
       "</table>\n",
       "</div>"
      ],
      "text/plain": [
       "        VRN Rekognition_VRN                           xml_filename\n",
       "2   PFF9889         PFF9880  14136_19700101195849178_PFF9889_1.xml\n",
       "5   CDI4388         LII4388  14141_19700101200554349_CDI4388_1.xml\n",
       "7    728JFW          728JFM   14143_19700101201336085_728JFW_1.xml\n",
       "9   AGV6998         AGY6998  14145_19700101203157953_AGV6998_1.xml\n",
       "11  1WF412I          WF4121  14147_19700101203445593_1WF412I_1.xml"
      ]
     },
     "execution_count": 130,
     "metadata": {},
     "output_type": "execute_result"
    }
   ],
   "source": [
    "df[df.VRN!=df.Rekognition_VRN][['VRN', 'Rekognition_VRN', 'xml_filename']].head()"
   ]
  },
  {
   "cell_type": "markdown",
   "metadata": {},
   "source": [
    "![](data_redatcted/ir_patch/14136_19700101195849178_PFF9889_1_ir_patch.jpg)\n",
    "![](data_redatcted/ir_patch/14141_19700101200554349_CDI4388_1_ir_patch.jpg)\n",
    "![](data_redatcted/ir_patch/14143_19700101201336085_728JFW_1_ir_patch.jpg)\n",
    "![](data_redatcted/ir_patch/14145_19700101203157953_AGV6998_1_ir_patch.jpg)\n",
    "![](data_redatcted/ir_patch/14147_19700101203445593_1WF412I_1_ir_patch.jpg)"
   ]
  },
  {
   "cell_type": "code",
   "execution_count": null,
   "metadata": {},
   "outputs": [],
   "source": []
  },
  {
   "cell_type": "code",
   "execution_count": null,
   "metadata": {},
   "outputs": [],
   "source": []
  },
  {
   "cell_type": "code",
   "execution_count": null,
   "metadata": {},
   "outputs": [],
   "source": []
  }
 ],
 "metadata": {
  "kernelspec": {
   "display_name": "Python 3",
   "language": "python",
   "name": "python3"
  },
  "language_info": {
   "codemirror_mode": {
    "name": "ipython",
    "version": 3
   },
   "file_extension": ".py",
   "mimetype": "text/x-python",
   "name": "python",
   "nbconvert_exporter": "python",
   "pygments_lexer": "ipython3",
   "version": "3.8.5"
  }
 },
 "nbformat": 4,
 "nbformat_minor": 4
}
