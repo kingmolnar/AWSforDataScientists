{
 "cells": [
  {
   "cell_type": "markdown",
   "metadata": {
    "ExecuteTime": {
     "end_time": "2019-09-22T20:05:02.595999Z",
     "start_time": "2019-09-22T20:05:02.589943Z"
    }
   },
   "source": [
    "# LPR Assignment using OpenCV and Tesseract\n",
    "\n",
    "Use Optical Character Recognition (OCR) to extract license plate number, aka. vehicle registration number (VRN)\n",
    "The actual VRN is coded in the file name and also represented in the corresponding meta data file (XML file)"
   ]
  },
  {
   "cell_type": "code",
   "execution_count": 1,
   "metadata": {
    "ExecuteTime": {
     "end_time": "2020-08-23T13:53:49.800949Z",
     "start_time": "2020-08-23T13:53:49.703277Z"
    }
   },
   "outputs": [
    {
     "name": "stdout",
     "output_type": "stream",
     "text": [
      "4.4.0\n"
     ]
    }
   ],
   "source": [
    "import sys\n",
    "# sys.path.insert(0, \"/opt/opencv-4.4.0/build/python_loader\")\n",
    "import cv2\n",
    "print(cv2.__version__)"
   ]
  },
  {
   "cell_type": "code",
   "execution_count": 2,
   "metadata": {
    "ExecuteTime": {
     "end_time": "2020-08-17T12:10:09.072473Z",
     "start_time": "2020-08-17T12:10:08.360260Z"
    }
   },
   "outputs": [
    {
     "name": "stdout",
     "output_type": "stream",
     "text": [
      "4.1.1\n"
     ]
    }
   ],
   "source": [
    "import sys, os\n",
    "jp = os.path.join\n",
    "import numpy as np\n",
    "import pandas as pd\n",
    "%matplotlib inline\n",
    "import matplotlib.pyplot as plt\n",
    "\n",
    "##DATADIR = '/data/classes/MSA8650/LPR_project_data'\n",
    "DATADIR = 'data_redatcted'\n",
    "\n",
    "## OPENCV = '/opt/local/lib/python3.6/site-packages/cv2/python-3.6'\n",
    "# OPENCV = '/opt/opencv-4.4.0/build/lib/python3'\n",
    "# if OPENCV not in sys.path:\n",
    "#     sys.path.insert(0, OPENCV)\n",
    "# import cv2\n",
    "# print(cv2.__version__)\n",
    "\n",
    "import pytesseract\n",
    "print(pytesseract.get_tesseract_version())"
   ]
  },
  {
   "cell_type": "markdown",
   "metadata": {},
   "source": [
    "# Meta Info\n",
    "Read the XML files and create a table with all the meta information of the samples."
   ]
  },
  {
   "cell_type": "code",
   "execution_count": 3,
   "metadata": {
    "ExecuteTime": {
     "end_time": "2020-08-16T19:38:21.051800Z",
     "start_time": "2020-08-16T19:38:12.447049Z"
    }
   },
   "outputs": [
    {
     "name": "stdout",
     "output_type": "stream",
     "text": [
      "Loading from 'data_redatcted/meta_data.csv'\n",
      "(1839, 31)\n"
     ]
    },
    {
     "data": {
      "text/html": [
       "<div>\n",
       "<style scoped>\n",
       "    .dataframe tbody tr th:only-of-type {\n",
       "        vertical-align: middle;\n",
       "    }\n",
       "\n",
       "    .dataframe tbody tr th {\n",
       "        vertical-align: top;\n",
       "    }\n",
       "\n",
       "    .dataframe thead th {\n",
       "        text-align: right;\n",
       "    }\n",
       "</style>\n",
       "<table border=\"1\" class=\"dataframe\">\n",
       "  <thead>\n",
       "    <tr style=\"text-align: right;\">\n",
       "      <th></th>\n",
       "      <th>XMLFile</th>\n",
       "      <th>plate_read</th>\n",
       "      <th>InstanceID</th>\n",
       "      <th>CameraID</th>\n",
       "      <th>TimeStamp</th>\n",
       "      <th>TimeStampError</th>\n",
       "      <th>LaneID</th>\n",
       "      <th>VehicleDirection</th>\n",
       "      <th>PlateNotRead</th>\n",
       "      <th>VRN</th>\n",
       "      <th>...</th>\n",
       "      <th>PlateYCoord</th>\n",
       "      <th>PlateWidth</th>\n",
       "      <th>PlateHeight</th>\n",
       "      <th>ANPRImageWidth</th>\n",
       "      <th>ANPRImageHeight</th>\n",
       "      <th>IRImage</th>\n",
       "      <th>IRImagePatch</th>\n",
       "      <th>ContextImage</th>\n",
       "      <th>ContextImagePatch</th>\n",
       "      <th>ContextVideo</th>\n",
       "    </tr>\n",
       "  </thead>\n",
       "  <tbody>\n",
       "    <tr>\n",
       "      <th>0</th>\n",
       "      <td>14134_19700101194928245_BHA6172_1.xml</td>\n",
       "      <td>\\n\\t</td>\n",
       "      <td>14134</td>\n",
       "      <td>2</td>\n",
       "      <td>1970-01-01T15:49:28.245-0400</td>\n",
       "      <td>0</td>\n",
       "      <td>1</td>\n",
       "      <td>A</td>\n",
       "      <td>0</td>\n",
       "      <td>BHA6172</td>\n",
       "      <td>...</td>\n",
       "      <td>589.0</td>\n",
       "      <td>280.0</td>\n",
       "      <td>80.0</td>\n",
       "      <td>1280.0</td>\n",
       "      <td>1024.0</td>\n",
       "      <td>NaN</td>\n",
       "      <td>ir_patch/14134_19700101194928245_BHA6172_1_ir_...</td>\n",
       "      <td>context/14134_19700101194928245_BHA6172_1_cont...</td>\n",
       "      <td>NaN</td>\n",
       "      <td>NaN</td>\n",
       "    </tr>\n",
       "    <tr>\n",
       "      <th>1</th>\n",
       "      <td>14135_19700101195631172_BMU2999_1.xml</td>\n",
       "      <td>\\n\\t</td>\n",
       "      <td>14135</td>\n",
       "      <td>2</td>\n",
       "      <td>1970-01-01T15:56:31.172-0400</td>\n",
       "      <td>0</td>\n",
       "      <td>1</td>\n",
       "      <td>A</td>\n",
       "      <td>0</td>\n",
       "      <td>BMU2999</td>\n",
       "      <td>...</td>\n",
       "      <td>283.0</td>\n",
       "      <td>280.0</td>\n",
       "      <td>80.0</td>\n",
       "      <td>1280.0</td>\n",
       "      <td>1024.0</td>\n",
       "      <td>NaN</td>\n",
       "      <td>ir_patch/14135_19700101195631172_BMU2999_1_ir_...</td>\n",
       "      <td>context/14135_19700101195631172_BMU2999_1_cont...</td>\n",
       "      <td>NaN</td>\n",
       "      <td>NaN</td>\n",
       "    </tr>\n",
       "    <tr>\n",
       "      <th>2</th>\n",
       "      <td>14136_19700101195849178_PFF9889_1.xml</td>\n",
       "      <td>\\n\\t</td>\n",
       "      <td>14136</td>\n",
       "      <td>2</td>\n",
       "      <td>1970-01-01T15:58:49.178-0400</td>\n",
       "      <td>0</td>\n",
       "      <td>1</td>\n",
       "      <td>A</td>\n",
       "      <td>0</td>\n",
       "      <td>PFF9889</td>\n",
       "      <td>...</td>\n",
       "      <td>583.0</td>\n",
       "      <td>280.0</td>\n",
       "      <td>80.0</td>\n",
       "      <td>1280.0</td>\n",
       "      <td>1024.0</td>\n",
       "      <td>NaN</td>\n",
       "      <td>ir_patch/14136_19700101195849178_PFF9889_1_ir_...</td>\n",
       "      <td>context/14136_19700101195849178_PFF9889_1_cont...</td>\n",
       "      <td>NaN</td>\n",
       "      <td>NaN</td>\n",
       "    </tr>\n",
       "    <tr>\n",
       "      <th>3</th>\n",
       "      <td>14137_19700101200204933_PTA2105_1.xml</td>\n",
       "      <td>\\n\\t</td>\n",
       "      <td>14137</td>\n",
       "      <td>2</td>\n",
       "      <td>1970-01-01T16:02:04.933-0400</td>\n",
       "      <td>0</td>\n",
       "      <td>1</td>\n",
       "      <td>A</td>\n",
       "      <td>0</td>\n",
       "      <td>PTA2105</td>\n",
       "      <td>...</td>\n",
       "      <td>727.0</td>\n",
       "      <td>280.0</td>\n",
       "      <td>80.0</td>\n",
       "      <td>1280.0</td>\n",
       "      <td>1024.0</td>\n",
       "      <td>NaN</td>\n",
       "      <td>ir_patch/14137_19700101200204933_PTA2105_1_ir_...</td>\n",
       "      <td>context/14137_19700101200204933_PTA2105_1_cont...</td>\n",
       "      <td>NaN</td>\n",
       "      <td>NaN</td>\n",
       "    </tr>\n",
       "    <tr>\n",
       "      <th>4</th>\n",
       "      <td>14140_19700101200442871_CCD7351_1.xml</td>\n",
       "      <td>\\n\\t</td>\n",
       "      <td>14140</td>\n",
       "      <td>2</td>\n",
       "      <td>1970-01-01T16:04:42.871-0400</td>\n",
       "      <td>0</td>\n",
       "      <td>1</td>\n",
       "      <td>A</td>\n",
       "      <td>0</td>\n",
       "      <td>CCD7351</td>\n",
       "      <td>...</td>\n",
       "      <td>943.0</td>\n",
       "      <td>280.0</td>\n",
       "      <td>80.0</td>\n",
       "      <td>1280.0</td>\n",
       "      <td>1024.0</td>\n",
       "      <td>NaN</td>\n",
       "      <td>ir_patch/14140_19700101200442871_CCD7351_1_ir_...</td>\n",
       "      <td>context/14140_19700101200442871_CCD7351_1_cont...</td>\n",
       "      <td>NaN</td>\n",
       "      <td>NaN</td>\n",
       "    </tr>\n",
       "  </tbody>\n",
       "</table>\n",
       "<p>5 rows × 31 columns</p>\n",
       "</div>"
      ],
      "text/plain": [
       "                                 XMLFile plate_read  InstanceID  CameraID  \\\n",
       "0  14134_19700101194928245_BHA6172_1.xml       \\n\\t       14134         2   \n",
       "1  14135_19700101195631172_BMU2999_1.xml       \\n\\t       14135         2   \n",
       "2  14136_19700101195849178_PFF9889_1.xml       \\n\\t       14136         2   \n",
       "3  14137_19700101200204933_PTA2105_1.xml       \\n\\t       14137         2   \n",
       "4  14140_19700101200442871_CCD7351_1.xml       \\n\\t       14140         2   \n",
       "\n",
       "                      TimeStamp  TimeStampError  LaneID VehicleDirection  \\\n",
       "0  1970-01-01T15:49:28.245-0400               0       1                A   \n",
       "1  1970-01-01T15:56:31.172-0400               0       1                A   \n",
       "2  1970-01-01T15:58:49.178-0400               0       1                A   \n",
       "3  1970-01-01T16:02:04.933-0400               0       1                A   \n",
       "4  1970-01-01T16:04:42.871-0400               0       1                A   \n",
       "\n",
       "   PlateNotRead      VRN  ...  PlateYCoord  PlateWidth  PlateHeight  \\\n",
       "0             0  BHA6172  ...        589.0       280.0         80.0   \n",
       "1             0  BMU2999  ...        283.0       280.0         80.0   \n",
       "2             0  PFF9889  ...        583.0       280.0         80.0   \n",
       "3             0  PTA2105  ...        727.0       280.0         80.0   \n",
       "4             0  CCD7351  ...        943.0       280.0         80.0   \n",
       "\n",
       "   ANPRImageWidth ANPRImageHeight  IRImage  \\\n",
       "0          1280.0          1024.0      NaN   \n",
       "1          1280.0          1024.0      NaN   \n",
       "2          1280.0          1024.0      NaN   \n",
       "3          1280.0          1024.0      NaN   \n",
       "4          1280.0          1024.0      NaN   \n",
       "\n",
       "                                        IRImagePatch  \\\n",
       "0  ir_patch/14134_19700101194928245_BHA6172_1_ir_...   \n",
       "1  ir_patch/14135_19700101195631172_BMU2999_1_ir_...   \n",
       "2  ir_patch/14136_19700101195849178_PFF9889_1_ir_...   \n",
       "3  ir_patch/14137_19700101200204933_PTA2105_1_ir_...   \n",
       "4  ir_patch/14140_19700101200442871_CCD7351_1_ir_...   \n",
       "\n",
       "                                        ContextImage  ContextImagePatch  \\\n",
       "0  context/14134_19700101194928245_BHA6172_1_cont...                NaN   \n",
       "1  context/14135_19700101195631172_BMU2999_1_cont...                NaN   \n",
       "2  context/14136_19700101195849178_PFF9889_1_cont...                NaN   \n",
       "3  context/14137_19700101200204933_PTA2105_1_cont...                NaN   \n",
       "4  context/14140_19700101200442871_CCD7351_1_cont...                NaN   \n",
       "\n",
       "   ContextVideo  \n",
       "0           NaN  \n",
       "1           NaN  \n",
       "2           NaN  \n",
       "3           NaN  \n",
       "4           NaN  \n",
       "\n",
       "[5 rows x 31 columns]"
      ]
     },
     "execution_count": 3,
     "metadata": {},
     "output_type": "execute_result"
    }
   ],
   "source": [
    "meta_df_filename = jp(DATADIR, 'meta_data.csv')\n",
    "\n",
    "if os.path.isfile(meta_df_filename):\n",
    "    print(f\"Loading from '{meta_df_filename}'\")\n",
    "    meta_df = pd.read_csv(meta_df_filename)\n",
    "else:\n",
    "    xmls_list = [x for x in filter(lambda s: s.endswith('.xml'), map(lambda s: s.strip(), os.popen('ls %s/xml' % DATADIR).readlines()))]\n",
    "    context_list = [x for x in filter(lambda s: s.endswith('.jpg'), map(lambda s: s.strip(), os.popen('ls %s/context' % DATADIR).readlines()))]\n",
    "    ir_list = [x for x in filter(lambda s: s.endswith('.jpg'), map(lambda s: s.strip(), os.popen('ls %s/ir_patch' % DATADIR).readlines()))]\n",
    "    # xmls_list[:3], context_list[:3], ir_list[:3]\n",
    "\n",
    "    lpdf = pd.DataFrame(index=map(lambda s: s.split('_')[0], xmls_list), data={'xml': xmls_list}) \\\n",
    "            .join( pd.DataFrame(index=map(lambda s: s.split('_')[0], context_list), data={'context': context_list}), how='outer' ) \\\n",
    "            .join( pd.DataFrame(index=map(lambda s: s.split('_')[0], ir_list), data={'ir_patch': ir_list}), how='outer' ) \\\n",
    "            .dropna().copy()\n",
    "    print(lpdf.shape)\n",
    "    # display(lpdf.head(5))\n",
    "\n",
    "    import xml.etree.ElementTree as ET\n",
    "\n",
    "    meta_df = pd.DataFrame()\n",
    "    for i, r in lpdf.iterrows():\n",
    "        tree = ET.parse(jp(DATADIR, 'xml', r.xml))\n",
    "        el_dict = {}\n",
    "        for x in tree.iter():\n",
    "            el_dict[x.tag] = [x.text]\n",
    "        el_dict\n",
    "        r_df = pd.DataFrame(el_dict) ##, index=[r.xml])\n",
    "        r_df.index = [r.xml]\n",
    "        meta_df = pd.concat([meta_df, r_df])\n",
    "    for c in ['IRImagePatch', 'ContextImage']:\n",
    "        print(f'fix {c}')\n",
    "        meta_df[c] = meta_df[c].map(lambda p: p.replace(r'data_redatcted/', ''))\n",
    "    meta_df.reset_index(inplace=True)\n",
    "    meta_df.rename({'index': 'XMLFile'}, axis=1, inplace=True)\n",
    "    \n",
    "    num_cols = ['ANPRImageHeight', 'ANPRImageWidth', 'PlateHeight', 'PlateWidth', 'PlateXCoord', 'PlateYCoord', \n",
    "            'TagConfidence', 'VRNConfidence', 'Velocity', 'VelocityError', 'XCoord', 'YCoord']\n",
    "    \n",
    "    def string2float(x):\n",
    "        return np.NAN if x==None else float(x)\n",
    "\n",
    "    for col in num_cols:\n",
    "        meta_df[col] = meta_df[col].map(string2float)\n",
    "\n",
    "    meta_df.to_csv(meta_df_filename, index=None)\n",
    "    \n",
    "    \n",
    "print(meta_df.shape)\n",
    "meta_df.head(5)"
   ]
  },
  {
   "cell_type": "code",
   "execution_count": null,
   "metadata": {},
   "outputs": [],
   "source": []
  },
  {
   "cell_type": "code",
   "execution_count": 4,
   "metadata": {},
   "outputs": [],
   "source": [
    "#! wget https://github.com/opencv/opencv_contrib/raw/master/modules/text/samples/textbox.prototxt"
   ]
  },
  {
   "cell_type": "code",
   "execution_count": 5,
   "metadata": {},
   "outputs": [],
   "source": [
    "#! wget https://www.dropbox.com/s/g8pjzv2de9gty8g/TextBoxes_icdar13.caffemodel"
   ]
  },
  {
   "cell_type": "code",
   "execution_count": 6,
   "metadata": {},
   "outputs": [],
   "source": [
    "# Create text detector\n",
    "textSpotter = cv2.text.TextDetectorCNN_create(\"textbox.prototxt\", \"TextBoxes_icdar13.caffemodel\")"
   ]
  },
  {
   "cell_type": "code",
   "execution_count": 7,
   "metadata": {},
   "outputs": [],
   "source": [
    "tessdata = '/usr/local/Cellar/tesseract/4.1.1/share/tessdata/'"
   ]
  },
  {
   "cell_type": "code",
   "execution_count": 8,
   "metadata": {},
   "outputs": [
    {
     "name": "stdout",
     "output_type": "stream",
     "text": [
      "ABCDEFGHIJKLMNOPQRSTUVWXYZ0123456789\n"
     ]
    }
   ],
   "source": [
    "whitelist = ''.join([chr(ord('A')+x) for x in range(26)]) \\\n",
    "          + ''.join([str(i) for i in range(10)])\n",
    "print(whitelist)"
   ]
  },
  {
   "cell_type": "code",
   "execution_count": null,
   "metadata": {},
   "outputs": [],
   "source": []
  },
  {
   "cell_type": "code",
   "execution_count": 9,
   "metadata": {},
   "outputs": [
    {
     "name": "stdout",
     "output_type": "stream",
     "text": [
      "OCR: ''\n"
     ]
    },
    {
     "data": {
      "image/png": "[encoded data removed]",
      "text/plain": [
       "<Figure size 432x288 with 1 Axes>"
      ]
     },
     "metadata": {
      "needs_background": "light"
     },
     "output_type": "display_data"
    },
    {
     "name": "stdout",
     "output_type": "stream",
     "text": [
      "OCR: ''\n"
     ]
    },
    {
     "data": {
      "image/png": "[encoded data removed]",
      "text/plain": [
       "<Figure size 432x288 with 1 Axes>"
      ]
     },
     "metadata": {
      "needs_background": "light"
     },
     "output_type": "display_data"
    },
    {
     "name": "stdout",
     "output_type": "stream",
     "text": [
      "OCR: ''\n"
     ]
    },
    {
     "data": {
      "image/png": "[encoded data removed]",
      "text/plain": [
       "<Figure size 432x288 with 1 Axes>"
      ]
     },
     "metadata": {
      "needs_background": "light"
     },
     "output_type": "display_data"
    },
    {
     "name": "stdout",
     "output_type": "stream",
     "text": [
      "OCR: 'BS 2\n",
      "'\n"
     ]
    },
    {
     "data": {
      "image/png": "[encoded data removed]",
      "text/plain": [
       "<Figure size 432x288 with 1 Axes>"
      ]
     },
     "metadata": {
      "needs_background": "light"
     },
     "output_type": "display_data"
    },
    {
     "name": "stdout",
     "output_type": "stream",
     "text": [
      "OCR: ''\n"
     ]
    },
    {
     "data": {
      "image/png": "[encoded data removed]",
      "text/plain": [
       "<Figure size 432x288 with 1 Axes>"
      ]
     },
     "metadata": {
      "needs_background": "light"
     },
     "output_type": "display_data"
    },
    {
     "name": "stdout",
     "output_type": "stream",
     "text": [
      "OCR: ''\n"
     ]
    },
    {
     "data": {
      "image/png": "[encoded data removed]",
      "text/plain": [
       "<Figure size 432x288 with 1 Axes>"
      ]
     },
     "metadata": {
      "needs_background": "light"
     },
     "output_type": "display_data"
    },
    {
     "name": "stdout",
     "output_type": "stream",
     "text": [
      "OCR: 'MES\n",
      "'\n"
     ]
    },
    {
     "data": {
      "image/png": "[encoded data removed]",
      "text/plain": [
       "<Figure size 432x288 with 1 Axes>"
      ]
     },
     "metadata": {
      "needs_background": "light"
     },
     "output_type": "display_data"
    },
    {
     "name": "stdout",
     "output_type": "stream",
     "text": [
      "OCR: '195384 B53 4\n",
      "'\n"
     ]
    },
    {
     "data": {
      "image/png": "[encoded data removed]",
      "text/plain": [
       "<Figure size 432x288 with 1 Axes>"
      ]
     },
     "metadata": {
      "needs_background": "light"
     },
     "output_type": "display_data"
    }
   ],
   "source": [
    "ocr = cv2.text_OCRTesseract.create(tessdata, 'eng', whitelist, cv2.text.OEM_DEFAULT, cv2.text.PSM_SINGLE_LINE)\n",
    "\n",
    "for k in [40, 60, 61, 230, 478, 1234, 97, 991]:\n",
    "    row = meta_df.iloc[k]\n",
    "    # gray = cv2.cvtColor(cv2.imread(jp(DATADIR, row.ContextImage)), cv2.COLOR_BGR2GRAY) ##  cv2.COLOR_BGR2RGB)\n",
    "    ##ir = cv2.cvtColor(cv2.imread(jp(DATADIR, row.IRImagePatch)), cv2.COLOR_BGR2RGB) ##  cv2.COLOR_BGR2RGB)\n",
    "    ##ir = cv2.cvtColor(cv2.imread(jp(DATADIR, row.IRImagePatch), 0), cv2.COLOR_GRAY2RGB)\n",
    "    ir = cv2.imread(jp(DATADIR, row.IRImagePatch), 0)\n",
    "    \n",
    "    txt = ocr.run(ir, 10, cv2.text.OCR_LEVEL_TEXTLINE)\n",
    "    print(f\"OCR: '{txt}'\")\n",
    "    \n",
    "    ir2 = cv2.cvtColor(ir, cv2.COLOR_GRAY2RGB)\n",
    "    box, confidence = textSpotter.detect(ir2)\n",
    "\n",
    "    for k in range(3):\n",
    "        if k>=box.shape[0]: break;\n",
    "        b = box[k,:]\n",
    "        clr = [0, 0, 0]\n",
    "        clr[k] = 255\n",
    "        ir2 = cv2.rectangle(ir2, (b[0], b[1]), (b[0]+b[2], b[1]+b[3]), tuple(clr), 1)\n",
    "        \n",
    "    plt.figure()\n",
    "    plt.imshow(ir2)\n",
    "    plt.show(), plt.close()\n",
    "    "
   ]
  },
  {
   "cell_type": "code",
   "execution_count": 66,
   "metadata": {},
   "outputs": [],
   "source": []
  },
  {
   "cell_type": "code",
   "execution_count": 67,
   "metadata": {},
   "outputs": [
    {
     "data": {
      "text/plain": [
       "array([[ 84,  24,  89,  30],\n",
       "       [ 18,  12,  97,  52],\n",
       "       [153,  51, 118,  26],\n",
       "       [ 45,  18, 141,  45],\n",
       "       [ 14,  52, 100,  24],\n",
       "       [ 18,   0, 103,  39],\n",
       "       [ 35,  22, 105,  31],\n",
       "       [ 34,  29, 216,  26]], dtype=int32)"
      ]
     },
     "execution_count": 67,
     "metadata": {},
     "output_type": "execute_result"
    }
   ],
   "source": [
    "box"
   ]
  },
  {
   "cell_type": "code",
   "execution_count": 74,
   "metadata": {},
   "outputs": [
    {
     "data": {
      "text/plain": [
       "<matplotlib.image.AxesImage at 0x135dd2d00>"
      ]
     },
     "execution_count": 74,
     "metadata": {},
     "output_type": "execute_result"
    },
    {
     "data": {
      "image/png": "[encoded data removed]",
      "text/plain": [
       "<Figure size 432x288 with 1 Axes>"
      ]
     },
     "metadata": {
      "needs_background": "light"
     },
     "output_type": "display_data"
    }
   ],
   "source": []
  },
  {
   "cell_type": "code",
   "execution_count": 72,
   "metadata": {},
   "outputs": [
    {
     "data": {
      "text/plain": [
       "array([[0.9999325 ],\n",
       "       [0.02076232],\n",
       "       [0.01461272],\n",
       "       [0.01445155],\n",
       "       [0.01433765],\n",
       "       [0.01320578],\n",
       "       [0.01252868],\n",
       "       [0.0113266 ]], dtype=float32)"
      ]
     },
     "execution_count": 72,
     "metadata": {},
     "output_type": "execute_result"
    }
   ],
   "source": [
    "confidence"
   ]
  },
  {
   "cell_type": "code",
   "execution_count": 85,
   "metadata": {},
   "outputs": [
    {
     "name": "stdout",
     "output_type": "stream",
     "text": [
      "\n"
     ]
    }
   ],
   "source": [
    "ocr = cv2.text_OCRTesseract.create()\n",
    "txt = cv2.text_OCRTesseract.run(ocr, ir, 50)\n",
    "print(txt)"
   ]
  },
  {
   "cell_type": "code",
   "execution_count": null,
   "metadata": {},
   "outputs": [],
   "source": [
    "   \n",
    "    def process(self, inframe, outframe):\n",
    "        img = inframe.getCvBGR()\n",
    "        txt = cv2.text_OCRTesseract.run(self.ocr, img, 50)\n",
    "        jevois.sendSerial('TXT {}'.format(txt))\n",
    "        outframe.sendCv(img)"
   ]
  },
  {
   "cell_type": "code",
   "execution_count": null,
   "metadata": {},
   "outputs": [],
   "source": []
  },
  {
   "cell_type": "code",
   "execution_count": null,
   "metadata": {},
   "outputs": [],
   "source": []
  },
  {
   "cell_type": "code",
   "execution_count": null,
   "metadata": {},
   "outputs": [],
   "source": []
  },
  {
   "cell_type": "code",
   "execution_count": null,
   "metadata": {},
   "outputs": [],
   "source": []
  },
  {
   "cell_type": "markdown",
   "metadata": {},
   "source": [
    "# Vehicle Registration Number\n",
    "I'm trying different image processing steps to prepare the image for OCR."
   ]
  },
  {
   "cell_type": "code",
   "execution_count": null,
   "metadata": {
    "ExecuteTime": {
     "end_time": "2020-08-17T12:10:29.375313Z",
     "start_time": "2020-08-17T12:10:29.369126Z"
    },
    "scrolled": true
   },
   "outputs": [],
   "source": [
    "import pytesseract\n",
    "from PIL import Image\n",
    "from Levenshtein import distance"
   ]
  },
  {
   "cell_type": "code",
   "execution_count": null,
   "metadata": {
    "ExecuteTime": {
     "end_time": "2020-08-17T12:11:19.452014Z",
     "start_time": "2020-08-17T12:11:19.412525Z"
    }
   },
   "outputs": [],
   "source": [
    "meta_df = pd.read_csv(jp(DATADIR, 'meta_data.csv'))\n",
    "meta_df['VRN_length'] = meta_df.VRN.map(lambda s: len(s))\n",
    "print(f'Meta-database: {meta_df.shape}')"
   ]
  },
  {
   "cell_type": "code",
   "execution_count": null,
   "metadata": {
    "ExecuteTime": {
     "end_time": "2020-08-16T19:50:57.220709Z",
     "start_time": "2020-08-16T19:50:57.212515Z"
    }
   },
   "outputs": [],
   "source": [
    "meta_df.columns"
   ]
  },
  {
   "cell_type": "code",
   "execution_count": null,
   "metadata": {},
   "outputs": [],
   "source": []
  },
  {
   "cell_type": "code",
   "execution_count": 112,
   "metadata": {
    "ExecuteTime": {
     "end_time": "2020-08-16T21:37:48.883434Z",
     "start_time": "2020-08-16T21:37:48.875873Z"
    }
   },
   "outputs": [
    {
     "name": "stdout",
     "output_type": "stream",
     "text": [
      "data_redatcted/ir_patch/15531_19700101180318548_PYB5384_1_ir_patch.jpg\n",
      "(80, 280, 3)\n"
     ]
    }
   ],
   "source": [
    "imfile = jp(DATADIR, row['IRImagePatch'])\n",
    "print(imfile)\n",
    "ir = cv2.imread(jp(DATADIR, row['IRImagePatch']))\n",
    "print(ir.shape)"
   ]
  },
  {
   "cell_type": "code",
   "execution_count": null,
   "metadata": {
    "ExecuteTime": {
     "end_time": "2020-08-16T19:57:44.176247Z",
     "start_time": "2020-08-16T19:57:44.048327Z"
    }
   },
   "outputs": [],
   "source": [
    "!ls -l /data/classes/MSA8650/LPR_project_data/ir_patch/15411_19700101131706973_PWL2646_1_ir_patch.jpg"
   ]
  },
  {
   "cell_type": "code",
   "execution_count": 113,
   "metadata": {
    "ExecuteTime": {
     "end_time": "2020-08-18T01:08:15.428652Z",
     "start_time": "2020-08-18T01:08:15.241126Z"
    }
   },
   "outputs": [
    {
     "name": "stdout",
     "output_type": "stream",
     "text": [
      "file: data_redatcted/ir_patch/15411_19700101131706973_PWL2646_1_ir_patch.jpg exists\n",
      "(80, 280, 3)\n",
      "(80, 280)\n"
     ]
    },
    {
     "data": {
      "image/png": "[encoded data removed]",
      "text/plain": [
       "<Figure size 432x288 with 1 Axes>"
      ]
     },
     "metadata": {
      "needs_background": "light"
     },
     "output_type": "display_data"
    }
   ],
   "source": [
    "config = \"-psm 7 -c tessedit_char_whitelist=0123456789ABCDEFGHIJKLMNOPQRSTUVWXYZ\"\n",
    "\n",
    "row = meta_df.iloc[898]\n",
    "img_file = jp(DATADIR, row['IRImagePatch'])\n",
    "print(f\"file: {img_file} {'exists' if os.path.exists(img_file) else 'does not exist'}\")\n",
    "ir = cv2.imread(jp(DATADIR, row['IRImagePatch']))\n",
    "print(ir.shape)\n",
    "ir = cv2.cvtColor(ir, cv2.COLOR_BGR2GRAY)\n",
    "print(ir.shape)\n",
    "plt.imshow(ir, cmap='gray');\n",
    "plt.show()\n",
    "plt.close()"
   ]
  },
  {
   "cell_type": "code",
   "execution_count": 115,
   "metadata": {},
   "outputs": [],
   "source": [
    "from PIL import Image"
   ]
  },
  {
   "cell_type": "code",
   "execution_count": 117,
   "metadata": {
    "ExecuteTime": {
     "end_time": "2020-08-18T01:08:24.430705Z",
     "start_time": "2020-08-18T01:08:24.175158Z"
    }
   },
   "outputs": [
    {
     "name": "stdout",
     "output_type": "stream",
     "text": [
      "PHL2646\n"
     ]
    }
   ],
   "source": [
    "config = \"--psm 7 -c tessedit_char_whitelist=0123456789ABCDEFGHIJKLMNOPQRSTUVWXYZ\"\n",
    "res = pytesseract.image_to_string(Image.fromarray(ir), config=config).strip()\n",
    "print(res)"
   ]
  },
  {
   "cell_type": "code",
   "execution_count": null,
   "metadata": {
    "ExecuteTime": {
     "end_time": "2020-08-16T21:48:50.788524Z",
     "start_time": "2020-08-16T21:48:50.778657Z"
    }
   },
   "outputs": [],
   "source": [
    "np.array(meta_df.VRN.map(lambda s: len(s)))"
   ]
  },
  {
   "cell_type": "code",
   "execution_count": null,
   "metadata": {
    "ExecuteTime": {
     "end_time": "2020-08-17T12:10:55.892600Z",
     "start_time": "2020-08-17T12:10:55.883673Z"
    }
   },
   "outputs": [],
   "source": []
  },
  {
   "cell_type": "code",
   "execution_count": null,
   "metadata": {
    "ExecuteTime": {
     "end_time": "2020-08-17T12:10:59.598909Z",
     "start_time": "2020-08-17T12:10:59.573052Z"
    }
   },
   "outputs": [],
   "source": [
    "meta_df.groupby('VRN_length').agg({'VRN_length': 'count'})"
   ]
  },
  {
   "cell_type": "code",
   "execution_count": null,
   "metadata": {
    "ExecuteTime": {
     "end_time": "2020-08-17T12:37:02.175115Z",
     "start_time": "2020-08-17T12:37:02.168197Z"
    }
   },
   "outputs": [],
   "source": [
    "meta_df.columns"
   ]
  },
  {
   "cell_type": "code",
   "execution_count": null,
   "metadata": {
    "ExecuteTime": {
     "end_time": "2020-08-17T12:38:15.303406Z",
     "start_time": "2020-08-17T12:38:15.292642Z"
    }
   },
   "outputs": [],
   "source": [
    "def load_ir_image(row, quiet=True):\n",
    "    img_file = jp(DATADIR, row['IRImagePatch'])\n",
    "    assert os.path.exists(img_file), f\"File '{img_file}' does not exist.\"\n",
    "    ir = cv2.imread(img_file)\n",
    "    if not quiet:\n",
    "        print(ir.shape)\n",
    "    ir = cv2.cvtColor(ir, cv2.COLOR_BGR2GRAY)\n",
    "    if not quiet:\n",
    "        print(ir.shape)\n",
    "    return ir\n",
    "          \n",
    "    \n",
    "def load_context_image(row, quiet=True):\n",
    "    img_file = jp(DATADIR, row['ContextImage'])\n",
    "    assert os.path.exists(img_file), f\"File '{img_file}' does not exist.\"\n",
    "    ir = cv2.imread(img_file)\n",
    "    if not quiet:\n",
    "        print(ir.shape)\n",
    "    ir = cv2.cvtColor(ir, cv2.COLOR_BGR2RGB)\n",
    "    if not quiet:\n",
    "        print(ir.shape)\n",
    "    return ir\n",
    "          \n",
    "    \n",
    "def show_image(ir):\n",
    "    plt.imshow(ir, cmap='gray', );\n",
    "    plt.xticks([], [])\n",
    "    plt.yticks([],[])\n",
    "    plt.show()\n",
    "    plt.close()"
   ]
  },
  {
   "cell_type": "code",
   "execution_count": null,
   "metadata": {
    "ExecuteTime": {
     "end_time": "2020-08-17T12:21:11.043121Z",
     "start_time": "2020-08-17T12:21:10.743131Z"
    }
   },
   "outputs": [],
   "source": [
    "for i, r in meta_df[meta_df.VRN_length==8].iterrows():\n",
    "    print(r.VRN)\n",
    "    ir = load_ir_image(r)\n",
    "    show_image(ir)"
   ]
  },
  {
   "cell_type": "code",
   "execution_count": null,
   "metadata": {
    "ExecuteTime": {
     "end_time": "2020-08-18T01:09:04.248261Z",
     "start_time": "2020-08-18T01:09:04.243198Z"
    }
   },
   "outputs": [],
   "source": [
    "# N = (meta_df.VRN_length==7).sum()\n",
    "# for i, r in meta_df[meta_df.VRN_length==4].iterrows():\n",
    "#     print(r.VRN)\n",
    "#     ir = load_context_image(r)\n",
    "#     show_image(ir)"
   ]
  },
  {
   "cell_type": "code",
   "execution_count": null,
   "metadata": {},
   "outputs": [],
   "source": [
    "N = (meta_df.VRN_length==4).sum()\n",
    "for i, r in meta_df[meta_df.VRN_length==4].iterrows():\n",
    "    print(r.VRN)\n",
    "    ir = load_ir_image(r)\n",
    "    show_image(ir)"
   ]
  },
  {
   "cell_type": "code",
   "execution_count": null,
   "metadata": {},
   "outputs": [],
   "source": []
  },
  {
   "cell_type": "code",
   "execution_count": null,
   "metadata": {},
   "outputs": [],
   "source": []
  },
  {
   "cell_type": "code",
   "execution_count": null,
   "metadata": {
    "ExecuteTime": {
     "end_time": "2020-08-17T22:46:03.946386Z",
     "start_time": "2020-08-17T22:46:03.936820Z"
    }
   },
   "outputs": [],
   "source": [
    "row = meta_df.iloc[1]\n",
    "row"
   ]
  },
  {
   "cell_type": "code",
   "execution_count": null,
   "metadata": {
    "ExecuteTime": {
     "end_time": "2020-08-18T01:10:03.986313Z",
     "start_time": "2020-08-18T01:10:03.880936Z"
    }
   },
   "outputs": [],
   "source": [
    "ir = load_ir_image(row)\n",
    "show_image(ir)"
   ]
  },
  {
   "cell_type": "code",
   "execution_count": null,
   "metadata": {
    "ExecuteTime": {
     "end_time": "2020-08-17T22:47:46.840131Z",
     "start_time": "2020-08-17T22:47:46.835822Z"
    }
   },
   "outputs": [],
   "source": [
    "from pytesseract import Output"
   ]
  },
  {
   "cell_type": "code",
   "execution_count": null,
   "metadata": {
    "ExecuteTime": {
     "end_time": "2020-08-18T01:09:48.117965Z",
     "start_time": "2020-08-18T01:09:47.894423Z"
    }
   },
   "outputs": [],
   "source": [
    "config = \"-psm 7 -c tessedit_char_whitelist=0123456789ABCDEFGHIJKLMNOPQRSTUVWXYZ\"\n",
    "print(pytesseract.image_to_boxes(ir, config=config))"
   ]
  },
  {
   "cell_type": "code",
   "execution_count": null,
   "metadata": {},
   "outputs": [],
   "source": []
  },
  {
   "cell_type": "code",
   "execution_count": null,
   "metadata": {
    "ExecuteTime": {
     "end_time": "2020-08-16T21:38:15.678060Z",
     "start_time": "2020-08-16T21:38:15.654789Z"
    }
   },
   "outputs": [],
   "source": [
    "      \n",
    "#gray = cv2.cvtColor(cv2.imread(jp(DATADIR, 'context', row.context)), cv2.COLOR_BGR2GRAY) ##  cv2.COLOR_BGR2RGB)\n",
    "ir = cv2.cvtColor(cv2.imread(jp(DATADIR, 'ir_patch', row['IRImagePatch'])), cv2.COLOR_BGR2GRAY) ##  cv2.COLOR_BGR2RGB)\n",
    "plt.imshow(ir, cmap='gray');\n",
    "plt.show()\n",
    "plt.close()\n",
    "# res = pytesseract.image_to_string(Image.fromarray(ir), config=config).strip()\n",
    "# print(f\"VRN: {row.VRN} OCR: {res} Levenshtein distance: {distance(row.VRN, res)}\")\n",
    "\n",
    "# ir = cv2.resize(ir, (int(ir.shape[1]*1.5), ir.shape[0]), interpolation = cv2.INTER_AREA)\n",
    "# plt.imshow(ir, cmap='gray');\n",
    "# plt.show()\n",
    "# plt.close()\n",
    "# #ir = cv2.adaptiveThreshold(ir,255,cv2.ADAPTIVE_THRESH_GAUSSIAN_C,\\\n",
    "# #            cv2.THRESH_BINARY,11,2)\n",
    "# _ret, ir = cv2.threshold(ir,127,255,cv2.THRESH_BINARY)\n",
    "# print type(ir)\n",
    "# plt.imshow(ir, cmap='gray');\n",
    "# plt.show()\n",
    "# plt.close()\n",
    "# ir = cv2.adaptiveThreshold(ir,255,cv2.ADAPTIVE_THRESH_GAUSSIAN_C,\\\n",
    "#            cv2.THRESH_BINARY,11,2)\n",
    "# plt.imshow(ir, cmap='gray');\n",
    "# plt.show()\n",
    "# plt.close()\n",
    "# res = pytesseract.image_to_string(Image.fromarray(ir), config=config).strip()\n",
    "# print \"VRN: %s OCR: %s Levenshtein distance: %d\" % (row.VRN, res, distance(row.VRN, res))"
   ]
  },
  {
   "cell_type": "markdown",
   "metadata": {},
   "source": [
    "Let's test out how well they do"
   ]
  },
  {
   "cell_type": "code",
   "execution_count": null,
   "metadata": {
    "ExecuteTime": {
     "end_time": "2020-08-18T01:16:15.207026Z",
     "start_time": "2020-08-18T01:16:15.195845Z"
    }
   },
   "outputs": [],
   "source": [
    "def process_ir(r):\n",
    "    config = \"-psm 7 -c tessedit_char_whitelist=0123456789ABCDEFGHIJKLMNOPQRSTUVWXYZ\"\n",
    "    ir = load_ir_image(r)\n",
    "    res1 = pytesseract.image_to_string(Image.fromarray(ir), config=config).strip()\n",
    "    \n",
    "    ir2 = cv2.resize(ir, (int(ir.shape[1]*1.5), ir.shape[0]), interpolation = cv2.INTER_AREA)\n",
    "    res2 = pytesseract.image_to_string(Image.fromarray(ir2), config=config).strip()\n",
    "    \n",
    "    _ret, ir3 = cv2.threshold(ir,127,255,cv2.THRESH_BINARY)\n",
    "    res3 = pytesseract.image_to_string(Image.fromarray(ir3), config=config).strip()\n",
    "    \n",
    "    ir4 = cv2.adaptiveThreshold(ir, 255,\n",
    "                               cv2.ADAPTIVE_THRESH_GAUSSIAN_C, cv2.THRESH_BINARY, 11, 2)\n",
    "    res4 = pytesseract.image_to_string(Image.fromarray(ir4), config=config).strip()\n",
    "    return (res1, res2, res3, res4)"
   ]
  },
  {
   "cell_type": "code",
   "execution_count": null,
   "metadata": {
    "ExecuteTime": {
     "end_time": "2020-08-18T01:43:20.429247Z",
     "start_time": "2020-08-18T01:16:18.534504Z"
    }
   },
   "outputs": [],
   "source": [
    "meta_df['OCR_results'] = meta_df.apply(process_ir, axis=1)"
   ]
  },
  {
   "cell_type": "code",
   "execution_count": null,
   "metadata": {
    "ExecuteTime": {
     "end_time": "2019-09-22T22:49:36.408970-04:00",
     "start_time": "2019-09-22T22:48:05.321830"
    }
   },
   "outputs": [],
   "source": [
    "config = \"-psm 7 -c tessedit_char_whitelist=0123456789ABCDEFGHIJKLMNOPQRSTUVWXYZ\"\n",
    "\n",
    "dist_plain = np.zeros(lpdf2.shape[0], dtype=float)\n",
    "dist_scale = np.zeros(lpdf2.shape[0], dtype=float)\n",
    "dist_bin = np.zeros(lpdf2.shape[0], dtype=float)\n",
    "dist_bin_gauss = np.zeros(lpdf2.shape[0], dtype=float)\n",
    "\n",
    "\n",
    "max_iter = 100\n",
    "for i, row in lpdf2.iterrows():\n",
    "    max_iter -= 1\n",
    "    if max_iter<0: break\n",
    "    #gray = cv2.cvtColor(cv2.imread(jp(DATADIR, 'context', row.context)), cv2.COLOR_BGR2GRAY) ##  cv2.COLOR_BGR2RGB)\n",
    "    ir = cv2.cvtColor(cv2.imread(jp(DATADIR, 'ir_patch', row.ir_patch)), cv2.COLOR_BGR2GRAY) ##  cv2.COLOR_BGR2RGB)\n",
    "    res = pytesseract.image_to_string(Image.fromarray(ir), config=config).strip()\n",
    "    dist_plain[i] = distance(row.VRN, res)\n",
    "    \n",
    "    ir = cv2.resize(ir, (int(ir.shape[1]*1.5), ir.shape[0]), interpolation = cv2.INTER_AREA)\n",
    "    res = pytesseract.image_to_string(Image.fromarray(ir), config=config).strip()\n",
    "    dist_scale[i] = distance(row.VRN, res)\n",
    "\n",
    "    _ret, ir = cv2.threshold(ir,127,255,cv2.THRESH_BINARY)\n",
    "    res = pytesseract.image_to_string(Image.fromarray(ir), config=config).strip()\n",
    "    dist_bin[i] = distance(row.VRN, res)\n",
    "\n",
    "    ir = cv2.adaptiveThreshold(ir, 255,\n",
    "                               cv2.ADAPTIVE_THRESH_GAUSSIAN_C, cv2.THRESH_BINARY, 11, 2)\n",
    "    res = pytesseract.image_to_string(Image.fromarray(ir), config=config).strip()\n",
    "    dist_bin_gauss[i] = distance(row.VRN, res)\n",
    "\n",
    "lpdf3 = lpdf2.copy()\n",
    "lpdf3['dist_plain'] = dist_plain\n",
    "lpdf3['dist_scale'] = dist_scale\n",
    "lpdf3['dist_bin'] = dist_bin\n",
    "lpdf3['dist_bin_gauss'] = dist_bin_gauss"
   ]
  },
  {
   "cell_type": "code",
   "execution_count": null,
   "metadata": {},
   "outputs": [],
   "source": []
  },
  {
   "cell_type": "code",
   "execution_count": null,
   "metadata": {},
   "outputs": [],
   "source": []
  },
  {
   "cell_type": "code",
   "execution_count": null,
   "metadata": {},
   "outputs": [],
   "source": []
  },
  {
   "cell_type": "code",
   "execution_count": null,
   "metadata": {
    "ExecuteTime": {
     "end_time": "2019-09-22T22:49:43.967343-04:00",
     "start_time": "2019-09-22T22:49:43.921166"
    }
   },
   "outputs": [],
   "source": [
    "lpdf3.iloc[:100][['dist_plain', 'dist_scale', 'dist_bin', 'dist_bin_gauss']].describe()"
   ]
  },
  {
   "cell_type": "code",
   "execution_count": null,
   "metadata": {
    "ExecuteTime": {
     "end_time": "2019-09-22T22:51:48.216914-04:00",
     "start_time": "2019-09-22T22:51:48.010044"
    }
   },
   "outputs": [],
   "source": [
    "plt.hist(lpdf3.iloc[:100].dist_bin_gauss)"
   ]
  },
  {
   "cell_type": "code",
   "execution_count": null,
   "metadata": {},
   "outputs": [],
   "source": []
  },
  {
   "cell_type": "code",
   "execution_count": null,
   "metadata": {},
   "outputs": [],
   "source": []
  },
  {
   "cell_type": "code",
   "execution_count": null,
   "metadata": {},
   "outputs": [],
   "source": []
  },
  {
   "cell_type": "code",
   "execution_count": null,
   "metadata": {},
   "outputs": [],
   "source": []
  },
  {
   "cell_type": "code",
   "execution_count": null,
   "metadata": {
    "ExecuteTime": {
     "end_time": "2019-09-22T22:59:52.549959-04:00",
     "start_time": "2019-09-22T22:59:52.062703"
    }
   },
   "outputs": [],
   "source": [
    "row = lpdf2.iloc[278]\n",
    "ir = cv2.cvtColor(cv2.imread(jp(DATADIR, 'ir_patch', row.ir_patch)), cv2.COLOR_BGR2GRAY) ##  cv2.COLOR_BGR2RGB)\n",
    "plt.imshow(ir, cmap='gray')\n",
    "res = pytesseract.image_to_string(Image.fromarray(ir), config=config).strip()\n",
    "print row.VRN, res, distance(row.VRN, res)"
   ]
  },
  {
   "cell_type": "code",
   "execution_count": null,
   "metadata": {
    "ExecuteTime": {
     "end_time": "2019-09-22T22:59:58.354713-04:00",
     "start_time": "2019-09-22T22:59:57.899088"
    },
    "scrolled": true
   },
   "outputs": [],
   "source": [
    "import imutils\n",
    "ir2 = imutils.rotate_bound(ir, angle=5)\n",
    "plt.imshow(ir2, cmap='gray')\n",
    "res = pytesseract.image_to_string(Image.fromarray(ir2), config=config).strip()\n",
    "print row.VRN, res, distance(row.VRN, res)"
   ]
  },
  {
   "cell_type": "code",
   "execution_count": null,
   "metadata": {},
   "outputs": [],
   "source": [
    "res = pytesseract.image_to_string(Image.fromarray(ir), config=config).strip()\n",
    "print row.VRN, res, distance(row.VRN, res)"
   ]
  },
  {
   "cell_type": "code",
   "execution_count": null,
   "metadata": {
    "ExecuteTime": {
     "end_time": "2019-09-23T05:02:16.417793-04:00",
     "start_time": "2019-09-23T05:02:15.772312"
    }
   },
   "outputs": [],
   "source": [
    "row = lpdf3[lpdf3.VehicleDirection=='U'].iloc[0]\n",
    "ir = cv2.cvtColor(cv2.imread(jp(DATADIR, 'ir_patch', row.ir_patch)), cv2.COLOR_BGR2GRAY) ##  cv2.COLOR_BGR2RGB)\n",
    "plt.imshow(ir, cmap='gray')\n",
    "plt.show()\n",
    "plt.close()\n",
    "\n",
    "edges = cv2.Canny(ir,50,150,apertureSize = 3)\n",
    "plt.imshow(edges, cmap='gray')\n",
    "plt.show()\n",
    "plt.close()\n",
    "# This returns an array of r and theta values \n",
    "lines = cv2.HoughLines(edges,5,5*np.pi/180, 50)\n",
    "if lines is not None:\n",
    "    print len(lines)\n",
    "else:\n",
    "    print 0\n",
    "# The below for loop runs till r and theta values  \n",
    "# are in the range of the 2d array \n",
    "angles = np.array(map(lambda l: l[0][1]*180.0/np.pi, lines[:20]))\n",
    "print angles\n",
    "print angles.mean(), np.percentile(angles, 50)\n",
    "# plt.hist(np.array(map(lambda l: l[0][1]*180.0/np.pi, lines[:2])), bins=20)\n",
    "# plt.show()\n",
    "# plt.close()\n",
    "\n",
    "ir2 = imutils.rotate_bound(ir, angle=90-np.percentile(angles, 50))\n",
    "plt.imshow(ir2, cmap='gray')\n",
    "plt.show()\n",
    "plt.close()\n",
    "res = pytesseract.image_to_string(Image.fromarray(ir2), config=config).strip()\n",
    "print row.VRN, res, distance(row.VRN, res)"
   ]
  },
  {
   "cell_type": "code",
   "execution_count": null,
   "metadata": {
    "ExecuteTime": {
     "end_time": "2019-09-23T05:03:47.407931-04:00",
     "start_time": "2019-09-23T05:03:47.401329"
    }
   },
   "outputs": [],
   "source": [
    "np.round(89.999995674289)"
   ]
  },
  {
   "cell_type": "code",
   "execution_count": null,
   "metadata": {
    "ExecuteTime": {
     "end_time": "2019-09-23T04:16:01.340351-04:00",
     "start_time": "2019-09-23T04:16:01.336488"
    }
   },
   "outputs": [],
   "source": [
    "print lines"
   ]
  },
  {
   "cell_type": "code",
   "execution_count": null,
   "metadata": {
    "ExecuteTime": {
     "end_time": "2019-09-23T04:18:35.281282-04:00",
     "start_time": "2019-09-23T04:18:35.076228"
    }
   },
   "outputs": [],
   "source": [
    "plt.hist(np.array(map(lambda l: l[0][1]*180.0/np.pi, lines)), bins=20)"
   ]
  },
  {
   "cell_type": "code",
   "execution_count": null,
   "metadata": {
    "ExecuteTime": {
     "end_time": "2019-09-23T04:56:22.544567-04:00",
     "start_time": "2019-09-23T04:56:22.526008"
    }
   },
   "outputs": [],
   "source": [
    "row = lpdf3[lpdf3.VehicleDirection=='U'].iloc[0]\n"
   ]
  },
  {
   "cell_type": "code",
   "execution_count": null,
   "metadata": {},
   "outputs": [],
   "source": []
  },
  {
   "cell_type": "code",
   "execution_count": null,
   "metadata": {
    "ExecuteTime": {
     "end_time": "2019-09-23T04:13:59.242270-04:00",
     "start_time": "2019-09-23T04:13:59.237651"
    }
   },
   "outputs": [],
   "source": [
    "len(lines)"
   ]
  },
  {
   "cell_type": "code",
   "execution_count": null,
   "metadata": {
    "ExecuteTime": {
     "end_time": "2019-09-23T04:25:01.369287-04:00",
     "start_time": "2019-09-23T04:25:00.821643"
    }
   },
   "outputs": [],
   "source": [
    "row = lpdf2.iloc[1200]\n",
    "ir = cv2.cvtColor(cv2.imread(jp(DATADIR, 'ir_patch', row.ir_patch)), cv2.COLOR_BGR2GRAY) ##  cv2.COLOR_BGR2RGB)\n",
    "plt.imshow(ir, cmap='gray')\n",
    "res = pytesseract.image_to_string(Image.fromarray(ir), config=config).strip()\n",
    "print row.VRN, res, distance(row.VRN, res)"
   ]
  },
  {
   "cell_type": "code",
   "execution_count": null,
   "metadata": {
    "ExecuteTime": {
     "end_time": "2019-09-23T04:27:06.037907-04:00",
     "start_time": "2019-09-23T04:27:06.024495"
    }
   },
   "outputs": [],
   "source": [
    "lpdf3.groupby('VehicleDirection')['VehicleDirection'].count()"
   ]
  },
  {
   "cell_type": "code",
   "execution_count": null,
   "metadata": {
    "ExecuteTime": {
     "end_time": "2019-09-23T04:33:11.423900-04:00",
     "start_time": "2019-09-23T04:33:10.034427"
    }
   },
   "outputs": [],
   "source": [
    "for i, row in lpdf3[lpdf3.VehicleDirection=='U'].iloc[:10].iterrows():\n",
    "    ir = cv2.cvtColor(cv2.imread(jp(DATADIR, 'ir_patch', row['ir_patch'])), cv2.COLOR_BGR2GRAY) ##  cv2.COLOR_BGR2RGB)\n",
    "    plt.imshow(ir, cmap='gray')\n",
    "    plt.show()\n",
    "    plt.close()"
   ]
  },
  {
   "cell_type": "code",
   "execution_count": null,
   "metadata": {
    "ExecuteTime": {
     "end_time": "2019-09-23T04:34:32.776936-04:00",
     "start_time": "2019-09-23T04:34:32.677230"
    }
   },
   "outputs": [],
   "source": [
    "lpdf3.describe().T"
   ]
  },
  {
   "cell_type": "markdown",
   "metadata": {
    "ExecuteTime": {
     "end_time": "2019-09-23T04:30:02.043161-04:00",
     "start_time": "2019-09-23T04:30:01.956791"
    }
   },
   "source": [
    "# Process Pipeline"
   ]
  },
  {
   "cell_type": "code",
   "execution_count": null,
   "metadata": {
    "ExecuteTime": {
     "end_time": "2019-09-23T07:27:44.594653-04:00",
     "start_time": "2019-09-23T07:15:25.489534"
    }
   },
   "outputs": [],
   "source": [
    "def read_ir_patch(ir_patch):\n",
    "    return cv2.cvtColor(cv2.imread(jp(DATADIR, 'ir_patch', ir_patch)), cv2.COLOR_BGR2GRAY)\n",
    "\n",
    "\n",
    "def rotate(img):\n",
    "    edges = cv2.Canny(img,50,150,apertureSize = 3)\n",
    "\n",
    "    # This returns an array of r and theta values \n",
    "    lines = cv2.HoughLines(edges,5,5*np.pi/180, 50)\n",
    "    if lines is not None:\n",
    "        #print len(lines)\n",
    "        thetas = np.array(map(lambda l: l[0][1]*180.0/np.pi, lines[:20]))\n",
    "        th = np.round(np.percentile(angles, 50))\n",
    "        img2 = imutils.rotate_bound(img, angle=90-th)\n",
    "        return img2\n",
    "    else:\n",
    "        return img\n",
    "\n",
    "    \n",
    "def show(img):\n",
    "    plt.imshow(img, cmap='gray')\n",
    "    plt.show()\n",
    "    plt.close()\n",
    "    \n",
    "    \n",
    "def scale(img, Sx=1.0, Sy=1.0):\n",
    "    img2 = cv2.resize(img, (int(img.shape[1]*Sx), int(img.shape[0]*Sy)), interpolation = cv2.INTER_AREA)\n",
    "    return img2\n",
    "    \n",
    "\n",
    "def thresh(img, lo=127, hi=255):\n",
    "    _ret, img2 = cv2.threshold(img, lo, hi, cv2.THRESH_BINARY)\n",
    "    return img2\n",
    "\n",
    "\n",
    "def threshgauss(img, lo=127, hi=255):\n",
    "    _ret, img2 = cv2.threshold(img, lo, hi, cv2.THRESH_BINARY)\n",
    "    img3 = cv2.adaptiveThreshold(img2, 255,\n",
    "                               cv2.ADAPTIVE_THRESH_GAUSSIAN_C, cv2.THRESH_BINARY, 11, 2)\n",
    "    return img3\n",
    "\n",
    "\n",
    "config = \"-psm 7 -c tessedit_char_whitelist=0123456789ABCDEFGHIJKLMNOPQRSTUVWXYZ\"\n",
    "\n",
    "lpdf4 = lpdf2.copy()\n",
    "\n",
    "ls_dist_val = []\n",
    "ls_dist_idx = []\n",
    "\n",
    "\n",
    "max_iter = 99999999\n",
    "for i, row in lpdf2.iterrows():\n",
    "    max_iter -= 1\n",
    "    if max_iter<0: break\n",
    "    #gray = cv2.cvtColor(cv2.imread(jp(DATADIR, 'context', row.context)), cv2.COLOR_BGR2GRAY) ##  cv2.COLOR_BGR2RGB)\n",
    "    ## ir = cv2.cvtColor(cv2.imread(jp(DATADIR, 'ir_patch', row.ir_patch)), cv2.COLOR_BGR2GRAY) ##  cv2.COLOR_BGR2RGB)\n",
    "    ir = read_ir_patch(row.ir_patch)\n",
    "    \n",
    "    ir2 = scale(ir, Sx=2.0, Sy=2.0)\n",
    "    ir3 = rotate(ir2)\n",
    "    ir4 = threshgauss(ir3)\n",
    "    \n",
    "    res = pytesseract.image_to_string(Image.fromarray(ir4), config=config).strip()\n",
    "    d = distance(row.VRN, res)\n",
    "    ls_dist_val.append(d)\n",
    "    ls_dist_idx.append(i)\n",
    "    \n",
    "    #     ir = cv2.resize(ir, (int(ir.shape[1]*1.5), ir.shape[0]), interpolation = cv2.INTER_AREA)\n",
    "    #     res = pytesseract.image_to_string(Image.fromarray(ir), config=config).strip()\n",
    "    #     dist_scale[i] = distance(row.VRN, res)\n",
    "\n",
    "    #     _ret, ir = cv2.threshold(ir,127,255,cv2.THRESH_BINARY)\n",
    "    #     res = pytesseract.image_to_string(Image.fromarray(ir), config=config).strip()\n",
    "    #     dist_bin[i] = distance(row.VRN, res)\n",
    "\n",
    "    #     ir = cv2.adaptiveThreshold(ir, 255,\n",
    "    #                                cv2.ADAPTIVE_THRESH_GAUSSIAN_C, cv2.THRESH_BINARY, 11, 2)\n",
    "    #     res = pytesseract.image_to_string(Image.fromarray(ir), config=config).strip()\n",
    "    #     dist_bin_gauss[i] = distance(row.VRN, res)\n",
    "\n",
    "dist_df = pd.DataFrame({'ls_dist': ls_dist_val}, index=ls_dist_idx)\n",
    "print dist_df.shape\n",
    "#dist_df.head()\n",
    "dist_df.groupby('ls_dist')['ls_dist'].count()"
   ]
  },
  {
   "cell_type": "raw",
   "metadata": {},
   "source": [
    "s_dist\n",
    "0      12\n",
    "1      24\n",
    "2      46\n",
    "3      97\n",
    "4     133\n",
    "5     186\n",
    "6     317\n",
    "7     827\n",
    "8      57\n",
    "9      52\n",
    "10     35\n",
    "11     20\n",
    "12     17\n",
    "13      4\n",
    "14      7\n",
    "15      2\n",
    "16      2\n",
    "24      1\n",
    "Name: ls_dist, dtype: int64"
   ]
  },
  {
   "cell_type": "code",
   "execution_count": null,
   "metadata": {},
   "outputs": [],
   "source": []
  },
  {
   "cell_type": "code",
   "execution_count": null,
   "metadata": {},
   "outputs": [],
   "source": []
  },
  {
   "cell_type": "code",
   "execution_count": null,
   "metadata": {},
   "outputs": [],
   "source": []
  },
  {
   "cell_type": "code",
   "execution_count": null,
   "metadata": {},
   "outputs": [],
   "source": []
  },
  {
   "cell_type": "code",
   "execution_count": null,
   "metadata": {
    "ExecuteTime": {
     "end_time": "2019-09-23T05:41:56.934936-04:00",
     "start_time": "2019-09-23T05:41:56.926102"
    },
    "scrolled": true
   },
   "outputs": [],
   "source": [
    "dist_df.groupby('ls_dist')['ls_dist'].count()"
   ]
  },
  {
   "cell_type": "code",
   "execution_count": null,
   "metadata": {},
   "outputs": [],
   "source": []
  },
  {
   "cell_type": "code",
   "execution_count": null,
   "metadata": {},
   "outputs": [],
   "source": []
  },
  {
   "cell_type": "code",
   "execution_count": null,
   "metadata": {},
   "outputs": [],
   "source": []
  },
  {
   "cell_type": "code",
   "execution_count": null,
   "metadata": {},
   "outputs": [],
   "source": []
  },
  {
   "cell_type": "code",
   "execution_count": null,
   "metadata": {},
   "outputs": [],
   "source": []
  },
  {
   "cell_type": "code",
   "execution_count": null,
   "metadata": {},
   "outputs": [],
   "source": []
  },
  {
   "cell_type": "code",
   "execution_count": null,
   "metadata": {},
   "outputs": [],
   "source": []
  },
  {
   "cell_type": "code",
   "execution_count": null,
   "metadata": {},
   "outputs": [],
   "source": []
  },
  {
   "cell_type": "code",
   "execution_count": null,
   "metadata": {},
   "outputs": [],
   "source": []
  },
  {
   "cell_type": "code",
   "execution_count": null,
   "metadata": {},
   "outputs": [],
   "source": []
  },
  {
   "cell_type": "code",
   "execution_count": null,
   "metadata": {
    "ExecuteTime": {
     "end_time": "2019-09-22T23:27:50.899676-04:00",
     "start_time": "2019-09-22T23:27:50.892233"
    }
   },
   "outputs": [],
   "source": [
    "angles = np.array(map(lambda l: l[0][0], lines))"
   ]
  },
  {
   "cell_type": "code",
   "execution_count": null,
   "metadata": {
    "ExecuteTime": {
     "end_time": "2019-09-22T23:30:01.445912-04:00",
     "start_time": "2019-09-22T23:30:01.435539"
    }
   },
   "outputs": [],
   "source": [
    "np.histogram(angles)"
   ]
  },
  {
   "cell_type": "code",
   "execution_count": null,
   "metadata": {
    "ExecuteTime": {
     "end_time": "2019-09-22T23:29:18.642854-04:00",
     "start_time": "2019-09-22T23:29:18.482584"
    }
   },
   "outputs": [],
   "source": [
    "ang2 = sorted(angles)\n",
    "plt.plot(range(len(ang2)), ang2)"
   ]
  },
  {
   "cell_type": "code",
   "execution_count": null,
   "metadata": {},
   "outputs": [],
   "source": []
  },
  {
   "cell_type": "code",
   "execution_count": null,
   "metadata": {},
   "outputs": [],
   "source": []
  }
 ],
 "metadata": {
  "hide_input": false,
  "kernelspec": {
   "display_name": "Python 3",
   "language": "python",
   "name": "python3"
  },
  "language_info": {
   "codemirror_mode": {
    "name": "ipython",
    "version": 3
   },
   "file_extension": ".py",
   "mimetype": "text/x-python",
   "name": "python",
   "nbconvert_exporter": "python",
   "pygments_lexer": "ipython3",
   "version": "3.8.5"
  },
  "toc": {
   "nav_menu": {
    "height": "138px",
    "width": "252px"
   },
   "navigate_menu": true,
   "number_sections": true,
   "sideBar": true,
   "threshold": 4,
   "toc_cell": false,
   "toc_section_display": "block",
   "toc_window_display": true
  }
 },
 "nbformat": 4,
 "nbformat_minor": 4
}
